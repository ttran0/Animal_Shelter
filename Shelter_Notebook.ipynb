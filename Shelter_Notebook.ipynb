{
 "cells": [
  {
   "cell_type": "code",
   "execution_count": 609,
   "metadata": {
    "collapsed": false
   },
   "outputs": [],
   "source": [
    "import pandas as pd\n",
    "import numpy as np\n",
    "import matplotlib.pyplot as plt"
   ]
  },
  {
   "cell_type": "markdown",
   "metadata": {},
   "source": [
    "### Load Data"
   ]
  },
  {
   "cell_type": "code",
   "execution_count": 610,
   "metadata": {
    "collapsed": true
   },
   "outputs": [],
   "source": [
    "df = pd.read_csv('train.csv')\n",
    "orig_df = pd.read_csv('train.csv')"
   ]
  },
  {
   "cell_type": "code",
   "execution_count": 611,
   "metadata": {
    "collapsed": false
   },
   "outputs": [
    {
     "data": {
      "text/plain": [
       "(26729, 10)"
      ]
     },
     "execution_count": 611,
     "metadata": {},
     "output_type": "execute_result"
    }
   ],
   "source": [
    "df.shape"
   ]
  },
  {
   "cell_type": "code",
   "execution_count": 612,
   "metadata": {
    "collapsed": false
   },
   "outputs": [
    {
     "data": {
      "text/html": [
       "<div>\n",
       "<table border=\"1\" class=\"dataframe\">\n",
       "  <thead>\n",
       "    <tr style=\"text-align: right;\">\n",
       "      <th></th>\n",
       "      <th>AnimalID</th>\n",
       "      <th>Name</th>\n",
       "      <th>DateTime</th>\n",
       "      <th>OutcomeType</th>\n",
       "      <th>OutcomeSubtype</th>\n",
       "      <th>AnimalType</th>\n",
       "      <th>SexuponOutcome</th>\n",
       "      <th>AgeuponOutcome</th>\n",
       "      <th>Breed</th>\n",
       "      <th>Color</th>\n",
       "    </tr>\n",
       "  </thead>\n",
       "  <tbody>\n",
       "    <tr>\n",
       "      <th>0</th>\n",
       "      <td>A671945</td>\n",
       "      <td>Hambone</td>\n",
       "      <td>2014-02-12 18:22:00</td>\n",
       "      <td>Return_to_owner</td>\n",
       "      <td>NaN</td>\n",
       "      <td>Dog</td>\n",
       "      <td>Neutered Male</td>\n",
       "      <td>1 year</td>\n",
       "      <td>Shetland Sheepdog Mix</td>\n",
       "      <td>Brown/White</td>\n",
       "    </tr>\n",
       "    <tr>\n",
       "      <th>1</th>\n",
       "      <td>A656520</td>\n",
       "      <td>Emily</td>\n",
       "      <td>2013-10-13 12:44:00</td>\n",
       "      <td>Euthanasia</td>\n",
       "      <td>Suffering</td>\n",
       "      <td>Cat</td>\n",
       "      <td>Spayed Female</td>\n",
       "      <td>1 year</td>\n",
       "      <td>Domestic Shorthair Mix</td>\n",
       "      <td>Cream Tabby</td>\n",
       "    </tr>\n",
       "    <tr>\n",
       "      <th>2</th>\n",
       "      <td>A686464</td>\n",
       "      <td>Pearce</td>\n",
       "      <td>2015-01-31 12:28:00</td>\n",
       "      <td>Adoption</td>\n",
       "      <td>Foster</td>\n",
       "      <td>Dog</td>\n",
       "      <td>Neutered Male</td>\n",
       "      <td>2 years</td>\n",
       "      <td>Pit Bull Mix</td>\n",
       "      <td>Blue/White</td>\n",
       "    </tr>\n",
       "    <tr>\n",
       "      <th>3</th>\n",
       "      <td>A683430</td>\n",
       "      <td>NaN</td>\n",
       "      <td>2014-07-11 19:09:00</td>\n",
       "      <td>Transfer</td>\n",
       "      <td>Partner</td>\n",
       "      <td>Cat</td>\n",
       "      <td>Intact Male</td>\n",
       "      <td>3 weeks</td>\n",
       "      <td>Domestic Shorthair Mix</td>\n",
       "      <td>Blue Cream</td>\n",
       "    </tr>\n",
       "    <tr>\n",
       "      <th>4</th>\n",
       "      <td>A667013</td>\n",
       "      <td>NaN</td>\n",
       "      <td>2013-11-15 12:52:00</td>\n",
       "      <td>Transfer</td>\n",
       "      <td>Partner</td>\n",
       "      <td>Dog</td>\n",
       "      <td>Neutered Male</td>\n",
       "      <td>2 years</td>\n",
       "      <td>Lhasa Apso/Miniature Poodle</td>\n",
       "      <td>Tan</td>\n",
       "    </tr>\n",
       "  </tbody>\n",
       "</table>\n",
       "</div>"
      ],
      "text/plain": [
       "  AnimalID     Name             DateTime      OutcomeType OutcomeSubtype  \\\n",
       "0  A671945  Hambone  2014-02-12 18:22:00  Return_to_owner            NaN   \n",
       "1  A656520    Emily  2013-10-13 12:44:00       Euthanasia      Suffering   \n",
       "2  A686464   Pearce  2015-01-31 12:28:00         Adoption         Foster   \n",
       "3  A683430      NaN  2014-07-11 19:09:00         Transfer        Partner   \n",
       "4  A667013      NaN  2013-11-15 12:52:00         Transfer        Partner   \n",
       "\n",
       "  AnimalType SexuponOutcome AgeuponOutcome                        Breed  \\\n",
       "0        Dog  Neutered Male         1 year        Shetland Sheepdog Mix   \n",
       "1        Cat  Spayed Female         1 year       Domestic Shorthair Mix   \n",
       "2        Dog  Neutered Male        2 years                 Pit Bull Mix   \n",
       "3        Cat    Intact Male        3 weeks       Domestic Shorthair Mix   \n",
       "4        Dog  Neutered Male        2 years  Lhasa Apso/Miniature Poodle   \n",
       "\n",
       "         Color  \n",
       "0  Brown/White  \n",
       "1  Cream Tabby  \n",
       "2   Blue/White  \n",
       "3   Blue Cream  \n",
       "4          Tan  "
      ]
     },
     "execution_count": 612,
     "metadata": {},
     "output_type": "execute_result"
    }
   ],
   "source": [
    "df.head()"
   ]
  },
  {
   "cell_type": "code",
   "execution_count": 613,
   "metadata": {
    "collapsed": false
   },
   "outputs": [
    {
     "data": {
      "text/plain": [
       "(1380,)"
      ]
     },
     "execution_count": 613,
     "metadata": {},
     "output_type": "execute_result"
    }
   ],
   "source": [
    "df['Breed'].unique().shape"
   ]
  },
  {
   "cell_type": "code",
   "execution_count": 614,
   "metadata": {
    "collapsed": false
   },
   "outputs": [
    {
     "data": {
      "text/plain": [
       "array(['AnimalID', 'Name', 'DateTime', 'OutcomeType', 'OutcomeSubtype',\n",
       "       'AnimalType', 'SexuponOutcome', 'AgeuponOutcome', 'Breed', 'Color'], dtype=object)"
      ]
     },
     "execution_count": 614,
     "metadata": {},
     "output_type": "execute_result"
    }
   ],
   "source": [
    "df.columns.values"
   ]
  },
  {
   "cell_type": "markdown",
   "metadata": {},
   "source": [
    "### Get DataFrame where outcome is only Euthanasia"
   ]
  },
  {
   "cell_type": "code",
   "execution_count": 615,
   "metadata": {
    "collapsed": false
   },
   "outputs": [],
   "source": [
    "df_euth = df[df['OutcomeType'] == 'Euthanasia']"
   ]
  },
  {
   "cell_type": "code",
   "execution_count": 616,
   "metadata": {
    "collapsed": false
   },
   "outputs": [
    {
     "data": {
      "text/plain": [
       "<matplotlib.text.Text at 0x7f151964fed0>"
      ]
     },
     "execution_count": 616,
     "metadata": {},
     "output_type": "execute_result"
    },
    {
     "data": {
      "image/png": "[encoded data removed]",
      "text/plain": [
       "<matplotlib.figure.Figure at 0x7f1505212f90>"
      ]
     },
     "metadata": {},
     "output_type": "display_data"
    }
   ],
   "source": [
    "%matplotlib inline\n",
    "plt.figure(figsize=(18,8))\n",
    "\n",
    "df_euth['Breed'].value_counts()[0:10].plot(kind = 'bar')\n",
    "plt.xticks(fontsize = 20, rotation = 80)\n",
    "plt.yticks(fontsize = 20)\n",
    "plt.title('Histogram of Highest 10 Breeds with Outcome Euthanasia', fontsize = 25)\n"
   ]
  },
  {
   "cell_type": "code",
   "execution_count": 617,
   "metadata": {
    "collapsed": false
   },
   "outputs": [
    {
     "data": {
      "text/plain": [
       "Suffering              1002\n",
       "Aggressive              320\n",
       "Behavior                 86\n",
       "Rabies Risk              74\n",
       "Medical                  66\n",
       "Court/Investigation       6\n",
       "Name: OutcomeSubtype, dtype: int64"
      ]
     },
     "execution_count": 617,
     "metadata": {},
     "output_type": "execute_result"
    }
   ],
   "source": [
    "df_euth['OutcomeSubtype'].value_counts()"
   ]
  },
  {
   "cell_type": "markdown",
   "metadata": {},
   "source": [
    "#### Most common dog breeds"
   ]
  },
  {
   "cell_type": "code",
   "execution_count": 618,
   "metadata": {
    "collapsed": false
   },
   "outputs": [
    {
     "data": {
      "text/plain": [
       "Pit Bull Mix                                      1906\n",
       "Chihuahua Shorthair Mix                           1766\n",
       "Labrador Retriever Mix                            1363\n",
       "German Shepherd Mix                                575\n",
       "Australian Cattle Dog Mix                          367\n",
       "Dachshund Mix                                      318\n",
       "Boxer Mix                                          245\n",
       "Miniature Poodle Mix                               233\n",
       "Border Collie Mix                                  229\n",
       "Australian Shepherd Mix                            163\n",
       "Rat Terrier Mix                                    157\n",
       "Catahoula Mix                                      157\n",
       "Jack Russell Terrier Mix                           146\n",
       "Yorkshire Terrier Mix                              143\n",
       "Chihuahua Longhair Mix                             142\n",
       "Siberian Husky Mix                                 138\n",
       "Miniature Schnauzer Mix                            136\n",
       "Beagle Mix                                         124\n",
       "Rottweiler Mix                                     113\n",
       "American Bulldog Mix                               109\n",
       "Cairn Terrier Mix                                  102\n",
       "Shih Tzu Mix                                       100\n",
       "Chihuahua Shorthair/Dachshund                       98\n",
       "Australian Kelpie Mix                               95\n",
       "Staffordshire Mix                                   94\n",
       "Pointer Mix                                         93\n",
       "American Staffordshire Terrier Mix                  92\n",
       "Great Pyrenees Mix                                  86\n",
       "Chihuahua Shorthair                                 85\n",
       "Labrador Retriever/Pit Bull                         81\n",
       "                                                  ... \n",
       "Border Collie/Anatol Shepherd                        1\n",
       "Bull Terrier Miniature                               1\n",
       "Pomeranian/Schipperke                                1\n",
       "Chihuahua Longhair/West Highland                     1\n",
       "Plott Hound/Carolina Dog                             1\n",
       "Cardigan Welsh Corgi/German Shepherd                 1\n",
       "Border Terrier/Soft Coated Wheaten Terrier           1\n",
       "Beagle/Queensland Heeler                             1\n",
       "Catahoula/Whippet                                    1\n",
       "Whippet/Whippet                                      1\n",
       "Dachshund/German Pinscher                            1\n",
       "Labrador Retriever/Harrier                           1\n",
       "Pembroke Welsh Corgi/Dachshund                       1\n",
       "Rhod Ridgeback/German Shepherd                       1\n",
       "Pharaoh Hound/Border Collie                          1\n",
       "Border Collie/Great Dane                             1\n",
       "Miniature Pinscher/Pomeranian                        1\n",
       "Dachshund Wirehair/Cairn Terrier                     1\n",
       "Rat Terrier/Pug                                      1\n",
       "Treeing Tennesse Brindle                             1\n",
       "Beagle/Black Mouth Cur                               1\n",
       "Great Pyrenees/Pit Bull                              1\n",
       "Toy Poodle/Yorkshire Terrier                         1\n",
       "Great Pyrenees/Siberian Husky                        1\n",
       "Lhasa Apso/Cocker Spaniel                            1\n",
       "Harrier/Labrador Retriever                           1\n",
       "Carolina Dog                                         1\n",
       "Border Terrier/Miniature Schnauzer                   1\n",
       "Soft Coated Wheaten Terrier/Labrador Retriever       1\n",
       "Pit Bull/Dogue De Bordeaux                           1\n",
       "Name: Breed, dtype: int64"
      ]
     },
     "execution_count": 618,
     "metadata": {},
     "output_type": "execute_result"
    }
   ],
   "source": [
    "df[df['AnimalType'] == 'Dog']['Breed'].value_counts()"
   ]
  },
  {
   "cell_type": "code",
   "execution_count": 619,
   "metadata": {
    "collapsed": false
   },
   "outputs": [],
   "source": [
    "cols = df.columns.values"
   ]
  },
  {
   "cell_type": "markdown",
   "metadata": {},
   "source": [
    "### Convert Age column to age in years"
   ]
  },
  {
   "cell_type": "code",
   "execution_count": 620,
   "metadata": {
    "collapsed": false
   },
   "outputs": [
    {
     "data": {
      "text/html": [
       "<div>\n",
       "<table border=\"1\" class=\"dataframe\">\n",
       "  <thead>\n",
       "    <tr style=\"text-align: right;\">\n",
       "      <th></th>\n",
       "      <th>AnimalID</th>\n",
       "      <th>Name</th>\n",
       "      <th>DateTime</th>\n",
       "      <th>OutcomeType</th>\n",
       "      <th>OutcomeSubtype</th>\n",
       "      <th>AnimalType</th>\n",
       "      <th>SexuponOutcome</th>\n",
       "      <th>AgeuponOutcome</th>\n",
       "      <th>Breed</th>\n",
       "      <th>Color</th>\n",
       "    </tr>\n",
       "  </thead>\n",
       "  <tbody>\n",
       "    <tr>\n",
       "      <th>0</th>\n",
       "      <td>A671945</td>\n",
       "      <td>Hambone</td>\n",
       "      <td>2014-02-12 18:22:00</td>\n",
       "      <td>Return_to_owner</td>\n",
       "      <td>NaN</td>\n",
       "      <td>Dog</td>\n",
       "      <td>Neutered Male</td>\n",
       "      <td>1 year</td>\n",
       "      <td>Shetland Sheepdog Mix</td>\n",
       "      <td>Brown/White</td>\n",
       "    </tr>\n",
       "    <tr>\n",
       "      <th>1</th>\n",
       "      <td>A656520</td>\n",
       "      <td>Emily</td>\n",
       "      <td>2013-10-13 12:44:00</td>\n",
       "      <td>Euthanasia</td>\n",
       "      <td>Suffering</td>\n",
       "      <td>Cat</td>\n",
       "      <td>Spayed Female</td>\n",
       "      <td>1 year</td>\n",
       "      <td>Domestic Shorthair Mix</td>\n",
       "      <td>Cream Tabby</td>\n",
       "    </tr>\n",
       "    <tr>\n",
       "      <th>2</th>\n",
       "      <td>A686464</td>\n",
       "      <td>Pearce</td>\n",
       "      <td>2015-01-31 12:28:00</td>\n",
       "      <td>Adoption</td>\n",
       "      <td>Foster</td>\n",
       "      <td>Dog</td>\n",
       "      <td>Neutered Male</td>\n",
       "      <td>2 years</td>\n",
       "      <td>Pit Bull Mix</td>\n",
       "      <td>Blue/White</td>\n",
       "    </tr>\n",
       "    <tr>\n",
       "      <th>3</th>\n",
       "      <td>A683430</td>\n",
       "      <td>NaN</td>\n",
       "      <td>2014-07-11 19:09:00</td>\n",
       "      <td>Transfer</td>\n",
       "      <td>Partner</td>\n",
       "      <td>Cat</td>\n",
       "      <td>Intact Male</td>\n",
       "      <td>3 weeks</td>\n",
       "      <td>Domestic Shorthair Mix</td>\n",
       "      <td>Blue Cream</td>\n",
       "    </tr>\n",
       "    <tr>\n",
       "      <th>4</th>\n",
       "      <td>A667013</td>\n",
       "      <td>NaN</td>\n",
       "      <td>2013-11-15 12:52:00</td>\n",
       "      <td>Transfer</td>\n",
       "      <td>Partner</td>\n",
       "      <td>Dog</td>\n",
       "      <td>Neutered Male</td>\n",
       "      <td>2 years</td>\n",
       "      <td>Lhasa Apso/Miniature Poodle</td>\n",
       "      <td>Tan</td>\n",
       "    </tr>\n",
       "  </tbody>\n",
       "</table>\n",
       "</div>"
      ],
      "text/plain": [
       "  AnimalID     Name             DateTime      OutcomeType OutcomeSubtype  \\\n",
       "0  A671945  Hambone  2014-02-12 18:22:00  Return_to_owner            NaN   \n",
       "1  A656520    Emily  2013-10-13 12:44:00       Euthanasia      Suffering   \n",
       "2  A686464   Pearce  2015-01-31 12:28:00         Adoption         Foster   \n",
       "3  A683430      NaN  2014-07-11 19:09:00         Transfer        Partner   \n",
       "4  A667013      NaN  2013-11-15 12:52:00         Transfer        Partner   \n",
       "\n",
       "  AnimalType SexuponOutcome AgeuponOutcome                        Breed  \\\n",
       "0        Dog  Neutered Male         1 year        Shetland Sheepdog Mix   \n",
       "1        Cat  Spayed Female         1 year       Domestic Shorthair Mix   \n",
       "2        Dog  Neutered Male        2 years                 Pit Bull Mix   \n",
       "3        Cat    Intact Male        3 weeks       Domestic Shorthair Mix   \n",
       "4        Dog  Neutered Male        2 years  Lhasa Apso/Miniature Poodle   \n",
       "\n",
       "         Color  \n",
       "0  Brown/White  \n",
       "1  Cream Tabby  \n",
       "2   Blue/White  \n",
       "3   Blue Cream  \n",
       "4          Tan  "
      ]
     },
     "execution_count": 620,
     "metadata": {},
     "output_type": "execute_result"
    }
   ],
   "source": [
    "df.head()"
   ]
  },
  {
   "cell_type": "code",
   "execution_count": 621,
   "metadata": {
    "collapsed": false
   },
   "outputs": [
    {
     "data": {
      "text/plain": [
       "array(['1 year', '2 years', '3 weeks', '1 month', '5 months', '4 years',\n",
       "       '3 months', '2 weeks', '2 months', '10 months', '6 months',\n",
       "       '5 years', '7 years', '3 years', '4 months', '12 years', '9 years',\n",
       "       '6 years', '1 weeks', '11 years', '4 weeks', '7 months', '8 years',\n",
       "       '11 months', '4 days', '9 months', '8 months', '15 years',\n",
       "       '10 years', '1 week', '0 years', '14 years', '3 days', '6 days',\n",
       "       '5 days', '5 weeks', '2 days', '16 years', '1 day', '13 years', nan,\n",
       "       '17 years', '18 years', '19 years', '20 years'], dtype=object)"
      ]
     },
     "execution_count": 621,
     "metadata": {},
     "output_type": "execute_result"
    }
   ],
   "source": [
    "df['AgeuponOutcome'].unique()"
   ]
  },
  {
   "cell_type": "code",
   "execution_count": 622,
   "metadata": {
    "collapsed": false
   },
   "outputs": [],
   "source": [
    "nrows = len(df['AgeuponOutcome'])\n",
    "Ages = df['AgeuponOutcome'].astype(str)\n",
    "y = np.zeros((nrows))\n",
    "\n",
    "for i in range(nrows):\n",
    "    \n",
    "    if 'year' in Ages[i]:\n",
    "        y[i] = (float(Ages[i].split()[0]))\n",
    "    \n",
    "    elif 'week' in Ages[i]:\n",
    "        y[i] = (float(Ages[i].split()[0])/52.)\n",
    "        \n",
    "    elif 'month' in Ages[i]:\n",
    "        y[i] = (float(Ages[i].split()[0])/12.)\n",
    "        \n",
    "    elif 'day' in Ages[i]:\n",
    "        y[i] = (float(Ages[i].split()[0])/352.)\n",
    "        \n",
    "    else:\n",
    "        y[i] = -99 \n",
    "#     print y[i]"
   ]
  },
  {
   "cell_type": "code",
   "execution_count": 623,
   "metadata": {
    "collapsed": false
   },
   "outputs": [],
   "source": [
    "y[y == -99] = np.mean(y[y != -99])"
   ]
  },
  {
   "cell_type": "code",
   "execution_count": 624,
   "metadata": {
    "collapsed": false
   },
   "outputs": [
    {
     "data": {
      "text/plain": [
       "<matplotlib.text.Text at 0x7f151970e950>"
      ]
     },
     "execution_count": 624,
     "metadata": {},
     "output_type": "execute_result"
    },
    {
     "data": {
      "image/png": "[encoded data removed]",
      "text/plain": [
       "<matplotlib.figure.Figure at 0x7f1504dfebd0>"
      ]
     },
     "metadata": {},
     "output_type": "display_data"
    }
   ],
   "source": [
    "plt.figure(figsize = (15,5))\n",
    "plt.hist(y)\n",
    "plt.xticks(fontsize = 15)\n",
    "plt.yticks(fontsize = 15)\n",
    "plt.title('Histogram of Ages upon Outcome', fontsize = 20)"
   ]
  },
  {
   "cell_type": "code",
   "execution_count": 625,
   "metadata": {
    "collapsed": false
   },
   "outputs": [],
   "source": [
    "df['AgeuponOutcome'] = pd.DataFrame({'AgeuponOutcome': y.tolist()})"
   ]
  },
  {
   "cell_type": "markdown",
   "metadata": {},
   "source": [
    "### Basic Stats for Dogs vs Cats"
   ]
  },
  {
   "cell_type": "markdown",
   "metadata": {},
   "source": [
    "#### Average age upon Outcome"
   ]
  },
  {
   "cell_type": "code",
   "execution_count": 626,
   "metadata": {
    "collapsed": false
   },
   "outputs": [
    {
     "data": {
      "text/plain": [
       "2.7590384739991176"
      ]
     },
     "execution_count": 626,
     "metadata": {},
     "output_type": "execute_result"
    }
   ],
   "source": [
    "df[df['AnimalType'] == 'Dog']['AgeuponOutcome'].mean()"
   ]
  },
  {
   "cell_type": "code",
   "execution_count": 627,
   "metadata": {
    "collapsed": false
   },
   "outputs": [
    {
     "data": {
      "text/plain": [
       "1.3623559083926418"
      ]
     },
     "execution_count": 627,
     "metadata": {},
     "output_type": "execute_result"
    }
   ],
   "source": [
    "df[df['AnimalType'] == 'Cat']['AgeuponOutcome'].mean()"
   ]
  },
  {
   "cell_type": "markdown",
   "metadata": {
    "collapsed": true
   },
   "source": [
    "#### Number of dogs vs cats"
   ]
  },
  {
   "cell_type": "code",
   "execution_count": 628,
   "metadata": {
    "collapsed": false
   },
   "outputs": [
    {
     "data": {
      "text/plain": [
       "15595"
      ]
     },
     "execution_count": 628,
     "metadata": {},
     "output_type": "execute_result"
    }
   ],
   "source": [
    "len(df[df['AnimalType'] == 'Dog'])"
   ]
  },
  {
   "cell_type": "code",
   "execution_count": 629,
   "metadata": {
    "collapsed": false
   },
   "outputs": [
    {
     "data": {
      "text/plain": [
       "11134"
      ]
     },
     "execution_count": 629,
     "metadata": {},
     "output_type": "execute_result"
    }
   ],
   "source": [
    "len(df[df['AnimalType'] == 'Cat'])"
   ]
  },
  {
   "cell_type": "markdown",
   "metadata": {},
   "source": [
    "### Create columns for male vs female, fixed vs intact"
   ]
  },
  {
   "cell_type": "code",
   "execution_count": 630,
   "metadata": {
    "collapsed": false
   },
   "outputs": [
    {
     "data": {
      "text/plain": [
       "array(['Neutered Male', 'Spayed Female', 'Intact Male', 'Intact Female',\n",
       "       'Unknown', nan], dtype=object)"
      ]
     },
     "execution_count": 630,
     "metadata": {},
     "output_type": "execute_result"
    }
   ],
   "source": [
    "df['SexuponOutcome'].unique()"
   ]
  },
  {
   "cell_type": "code",
   "execution_count": 631,
   "metadata": {
    "collapsed": false
   },
   "outputs": [],
   "source": [
    "df['SexuponOutcome'] = df['SexuponOutcome'].replace(np.nan,'')"
   ]
  },
  {
   "cell_type": "code",
   "execution_count": 632,
   "metadata": {
    "collapsed": false
   },
   "outputs": [],
   "source": [
    "spayed_neutered = np.zeros( (len(df['SexuponOutcome']) ))\n",
    "sex = np.zeros((len(df['SexuponOutcome'])))\n",
    "for i in range(len(df['SexuponOutcome'])):\n",
    "#     print df['SexuponOutcome'][i]\n",
    "    x = df['SexuponOutcome'][i].split()\n",
    "    if ('Neutered' in x) | ('Spayed' in x):\n",
    "        spayed_neutered[i] = 1.\n",
    "    if ('Male' in x):\n",
    "        sex[i] = 1.\n",
    "        "
   ]
  },
  {
   "cell_type": "code",
   "execution_count": 633,
   "metadata": {
    "collapsed": false
   },
   "outputs": [
    {
     "data": {
      "text/plain": [
       "0.69583598338882857"
      ]
     },
     "execution_count": 633,
     "metadata": {},
     "output_type": "execute_result"
    }
   ],
   "source": [
    "np.sum(spayed_neutered)/len(df)"
   ]
  },
  {
   "cell_type": "markdown",
   "metadata": {},
   "source": [
    "#### Note: Only 69.5% of animals in the shelter are Spayed or Neutered"
   ]
  },
  {
   "cell_type": "code",
   "execution_count": 634,
   "metadata": {
    "collapsed": false
   },
   "outputs": [
    {
     "data": {
      "text/plain": [
       "0.49773654083579633"
      ]
     },
     "execution_count": 634,
     "metadata": {},
     "output_type": "execute_result"
    }
   ],
   "source": [
    "np.sum(sex)/len(df)"
   ]
  },
  {
   "cell_type": "markdown",
   "metadata": {},
   "source": [
    "#### About 50% of animals are male"
   ]
  },
  {
   "cell_type": "code",
   "execution_count": 635,
   "metadata": {
    "collapsed": true
   },
   "outputs": [],
   "source": [
    "df['Fixed'] = pd.DataFrame({'fixed':spayed_neutered})\n",
    "df['Male'] = pd.DataFrame({'Male': sex})\n",
    "\n",
    "df = df.drop('SexuponOutcome',1)"
   ]
  },
  {
   "cell_type": "markdown",
   "metadata": {},
   "source": [
    "Convert Sex and Neutered Columns"
   ]
  },
  {
   "cell_type": "markdown",
   "metadata": {},
   "source": [
    "### Look at Animal Color"
   ]
  },
  {
   "cell_type": "code",
   "execution_count": 636,
   "metadata": {
    "collapsed": false
   },
   "outputs": [
    {
     "data": {
      "text/html": [
       "<div>\n",
       "<table border=\"1\" class=\"dataframe\">\n",
       "  <thead>\n",
       "    <tr style=\"text-align: right;\">\n",
       "      <th></th>\n",
       "      <th>AnimalID</th>\n",
       "      <th>Name</th>\n",
       "      <th>DateTime</th>\n",
       "      <th>OutcomeType</th>\n",
       "      <th>OutcomeSubtype</th>\n",
       "      <th>AnimalType</th>\n",
       "      <th>AgeuponOutcome</th>\n",
       "      <th>Breed</th>\n",
       "      <th>Color</th>\n",
       "      <th>Fixed</th>\n",
       "      <th>Male</th>\n",
       "    </tr>\n",
       "  </thead>\n",
       "  <tbody>\n",
       "    <tr>\n",
       "      <th>0</th>\n",
       "      <td>A671945</td>\n",
       "      <td>Hambone</td>\n",
       "      <td>2014-02-12 18:22:00</td>\n",
       "      <td>Return_to_owner</td>\n",
       "      <td>NaN</td>\n",
       "      <td>Dog</td>\n",
       "      <td>1.000000</td>\n",
       "      <td>Shetland Sheepdog Mix</td>\n",
       "      <td>Brown/White</td>\n",
       "      <td>1.0</td>\n",
       "      <td>1.0</td>\n",
       "    </tr>\n",
       "    <tr>\n",
       "      <th>1</th>\n",
       "      <td>A656520</td>\n",
       "      <td>Emily</td>\n",
       "      <td>2013-10-13 12:44:00</td>\n",
       "      <td>Euthanasia</td>\n",
       "      <td>Suffering</td>\n",
       "      <td>Cat</td>\n",
       "      <td>1.000000</td>\n",
       "      <td>Domestic Shorthair Mix</td>\n",
       "      <td>Cream Tabby</td>\n",
       "      <td>1.0</td>\n",
       "      <td>0.0</td>\n",
       "    </tr>\n",
       "    <tr>\n",
       "      <th>2</th>\n",
       "      <td>A686464</td>\n",
       "      <td>Pearce</td>\n",
       "      <td>2015-01-31 12:28:00</td>\n",
       "      <td>Adoption</td>\n",
       "      <td>Foster</td>\n",
       "      <td>Dog</td>\n",
       "      <td>2.000000</td>\n",
       "      <td>Pit Bull Mix</td>\n",
       "      <td>Blue/White</td>\n",
       "      <td>1.0</td>\n",
       "      <td>1.0</td>\n",
       "    </tr>\n",
       "    <tr>\n",
       "      <th>3</th>\n",
       "      <td>A683430</td>\n",
       "      <td>NaN</td>\n",
       "      <td>2014-07-11 19:09:00</td>\n",
       "      <td>Transfer</td>\n",
       "      <td>Partner</td>\n",
       "      <td>Cat</td>\n",
       "      <td>0.057692</td>\n",
       "      <td>Domestic Shorthair Mix</td>\n",
       "      <td>Blue Cream</td>\n",
       "      <td>0.0</td>\n",
       "      <td>1.0</td>\n",
       "    </tr>\n",
       "    <tr>\n",
       "      <th>4</th>\n",
       "      <td>A667013</td>\n",
       "      <td>NaN</td>\n",
       "      <td>2013-11-15 12:52:00</td>\n",
       "      <td>Transfer</td>\n",
       "      <td>Partner</td>\n",
       "      <td>Dog</td>\n",
       "      <td>2.000000</td>\n",
       "      <td>Lhasa Apso/Miniature Poodle</td>\n",
       "      <td>Tan</td>\n",
       "      <td>1.0</td>\n",
       "      <td>1.0</td>\n",
       "    </tr>\n",
       "  </tbody>\n",
       "</table>\n",
       "</div>"
      ],
      "text/plain": [
       "  AnimalID     Name             DateTime      OutcomeType OutcomeSubtype  \\\n",
       "0  A671945  Hambone  2014-02-12 18:22:00  Return_to_owner            NaN   \n",
       "1  A656520    Emily  2013-10-13 12:44:00       Euthanasia      Suffering   \n",
       "2  A686464   Pearce  2015-01-31 12:28:00         Adoption         Foster   \n",
       "3  A683430      NaN  2014-07-11 19:09:00         Transfer        Partner   \n",
       "4  A667013      NaN  2013-11-15 12:52:00         Transfer        Partner   \n",
       "\n",
       "  AnimalType  AgeuponOutcome                        Breed        Color  Fixed  \\\n",
       "0        Dog        1.000000        Shetland Sheepdog Mix  Brown/White    1.0   \n",
       "1        Cat        1.000000       Domestic Shorthair Mix  Cream Tabby    1.0   \n",
       "2        Dog        2.000000                 Pit Bull Mix   Blue/White    1.0   \n",
       "3        Cat        0.057692       Domestic Shorthair Mix   Blue Cream    0.0   \n",
       "4        Dog        2.000000  Lhasa Apso/Miniature Poodle          Tan    1.0   \n",
       "\n",
       "   Male  \n",
       "0   1.0  \n",
       "1   0.0  \n",
       "2   1.0  \n",
       "3   1.0  \n",
       "4   1.0  "
      ]
     },
     "execution_count": 636,
     "metadata": {},
     "output_type": "execute_result"
    }
   ],
   "source": [
    "df.head()"
   ]
  },
  {
   "cell_type": "code",
   "execution_count": 637,
   "metadata": {
    "collapsed": false
   },
   "outputs": [
    {
     "data": {
      "text/plain": [
       "<matplotlib.text.Text at 0x7f15195cebd0>"
      ]
     },
     "execution_count": 637,
     "metadata": {},
     "output_type": "execute_result"
    },
    {
     "data": {
      "image/png": "[encoded data removed]",
      "text/plain": [
       "<matplotlib.figure.Figure at 0x7f151979cf50>"
      ]
     },
     "metadata": {},
     "output_type": "display_data"
    }
   ],
   "source": [
    "plt.figure(figsize = (18,10))\n",
    "df['Color'].value_counts()[0:30].plot(kind = 'bar')\n",
    "plt.xticks(fontsize = 20)\n",
    "plt.xticks(rotation= 80)\n",
    "plt.yticks(fontsize = 20)\n",
    "plt.title('Histogram of Common Colors', fontsize = 30)"
   ]
  },
  {
   "cell_type": "code",
   "execution_count": 638,
   "metadata": {
    "collapsed": true
   },
   "outputs": [],
   "source": [
    "df_dogs = df[df['AnimalType'] == 'Dog']"
   ]
  },
  {
   "cell_type": "code",
   "execution_count": 639,
   "metadata": {
    "collapsed": false
   },
   "outputs": [
    {
     "data": {
      "text/plain": [
       "<matplotlib.text.Text at 0x7f151979c810>"
      ]
     },
     "execution_count": 639,
     "metadata": {},
     "output_type": "execute_result"
    },
    {
     "data": {
      "image/png": "[encoded data removed]",
      "text/plain": [
       "<matplotlib.figure.Figure at 0x7f1504d68c50>"
      ]
     },
     "metadata": {},
     "output_type": "display_data"
    }
   ],
   "source": [
    "plt.figure(figsize = (18,10))\n",
    "df_dogs['Color'].value_counts()[0:30].plot(kind = 'bar')\n",
    "plt.xticks(fontsize = 20)\n",
    "plt.xticks(rotation= 80)\n",
    "plt.yticks(fontsize = 20)\n",
    "plt.title('Histogram of Common Colors for Dogs', fontsize = 30)"
   ]
  },
  {
   "cell_type": "markdown",
   "metadata": {},
   "source": [
    "### Simplify the Breed and Color Columns"
   ]
  },
  {
   "cell_type": "code",
   "execution_count": 640,
   "metadata": {
    "collapsed": false
   },
   "outputs": [
    {
     "data": {
      "text/html": [
       "<div>\n",
       "<table border=\"1\" class=\"dataframe\">\n",
       "  <thead>\n",
       "    <tr style=\"text-align: right;\">\n",
       "      <th></th>\n",
       "      <th>AnimalID</th>\n",
       "      <th>Name</th>\n",
       "      <th>DateTime</th>\n",
       "      <th>OutcomeType</th>\n",
       "      <th>OutcomeSubtype</th>\n",
       "      <th>AnimalType</th>\n",
       "      <th>AgeuponOutcome</th>\n",
       "      <th>Breed</th>\n",
       "      <th>Color</th>\n",
       "      <th>Fixed</th>\n",
       "      <th>Male</th>\n",
       "    </tr>\n",
       "  </thead>\n",
       "  <tbody>\n",
       "    <tr>\n",
       "      <th>0</th>\n",
       "      <td>A671945</td>\n",
       "      <td>Hambone</td>\n",
       "      <td>2014-02-12 18:22:00</td>\n",
       "      <td>Return_to_owner</td>\n",
       "      <td>NaN</td>\n",
       "      <td>Dog</td>\n",
       "      <td>1.000000</td>\n",
       "      <td>Shetland Sheepdog Mix</td>\n",
       "      <td>Brown/White</td>\n",
       "      <td>1.0</td>\n",
       "      <td>1.0</td>\n",
       "    </tr>\n",
       "    <tr>\n",
       "      <th>1</th>\n",
       "      <td>A656520</td>\n",
       "      <td>Emily</td>\n",
       "      <td>2013-10-13 12:44:00</td>\n",
       "      <td>Euthanasia</td>\n",
       "      <td>Suffering</td>\n",
       "      <td>Cat</td>\n",
       "      <td>1.000000</td>\n",
       "      <td>Domestic Shorthair Mix</td>\n",
       "      <td>Cream Tabby</td>\n",
       "      <td>1.0</td>\n",
       "      <td>0.0</td>\n",
       "    </tr>\n",
       "    <tr>\n",
       "      <th>2</th>\n",
       "      <td>A686464</td>\n",
       "      <td>Pearce</td>\n",
       "      <td>2015-01-31 12:28:00</td>\n",
       "      <td>Adoption</td>\n",
       "      <td>Foster</td>\n",
       "      <td>Dog</td>\n",
       "      <td>2.000000</td>\n",
       "      <td>Pit Bull Mix</td>\n",
       "      <td>Blue/White</td>\n",
       "      <td>1.0</td>\n",
       "      <td>1.0</td>\n",
       "    </tr>\n",
       "    <tr>\n",
       "      <th>3</th>\n",
       "      <td>A683430</td>\n",
       "      <td>NaN</td>\n",
       "      <td>2014-07-11 19:09:00</td>\n",
       "      <td>Transfer</td>\n",
       "      <td>Partner</td>\n",
       "      <td>Cat</td>\n",
       "      <td>0.057692</td>\n",
       "      <td>Domestic Shorthair Mix</td>\n",
       "      <td>Blue Cream</td>\n",
       "      <td>0.0</td>\n",
       "      <td>1.0</td>\n",
       "    </tr>\n",
       "    <tr>\n",
       "      <th>4</th>\n",
       "      <td>A667013</td>\n",
       "      <td>NaN</td>\n",
       "      <td>2013-11-15 12:52:00</td>\n",
       "      <td>Transfer</td>\n",
       "      <td>Partner</td>\n",
       "      <td>Dog</td>\n",
       "      <td>2.000000</td>\n",
       "      <td>Lhasa Apso/Miniature Poodle</td>\n",
       "      <td>Tan</td>\n",
       "      <td>1.0</td>\n",
       "      <td>1.0</td>\n",
       "    </tr>\n",
       "  </tbody>\n",
       "</table>\n",
       "</div>"
      ],
      "text/plain": [
       "  AnimalID     Name             DateTime      OutcomeType OutcomeSubtype  \\\n",
       "0  A671945  Hambone  2014-02-12 18:22:00  Return_to_owner            NaN   \n",
       "1  A656520    Emily  2013-10-13 12:44:00       Euthanasia      Suffering   \n",
       "2  A686464   Pearce  2015-01-31 12:28:00         Adoption         Foster   \n",
       "3  A683430      NaN  2014-07-11 19:09:00         Transfer        Partner   \n",
       "4  A667013      NaN  2013-11-15 12:52:00         Transfer        Partner   \n",
       "\n",
       "  AnimalType  AgeuponOutcome                        Breed        Color  Fixed  \\\n",
       "0        Dog        1.000000        Shetland Sheepdog Mix  Brown/White    1.0   \n",
       "1        Cat        1.000000       Domestic Shorthair Mix  Cream Tabby    1.0   \n",
       "2        Dog        2.000000                 Pit Bull Mix   Blue/White    1.0   \n",
       "3        Cat        0.057692       Domestic Shorthair Mix   Blue Cream    0.0   \n",
       "4        Dog        2.000000  Lhasa Apso/Miniature Poodle          Tan    1.0   \n",
       "\n",
       "   Male  \n",
       "0   1.0  \n",
       "1   0.0  \n",
       "2   1.0  \n",
       "3   1.0  \n",
       "4   1.0  "
      ]
     },
     "execution_count": 640,
     "metadata": {},
     "output_type": "execute_result"
    }
   ],
   "source": [
    "df.head()"
   ]
  },
  {
   "cell_type": "code",
   "execution_count": 641,
   "metadata": {
    "collapsed": false
   },
   "outputs": [
    {
     "data": {
      "text/plain": [
       "1380"
      ]
     },
     "execution_count": 641,
     "metadata": {},
     "output_type": "execute_result"
    }
   ],
   "source": [
    "len(df['Breed'].unique())"
   ]
  },
  {
   "cell_type": "markdown",
   "metadata": {},
   "source": [
    "###### Currently, there are 1380 different breed classifications among cats and dogs"
   ]
  },
  {
   "cell_type": "code",
   "execution_count": 642,
   "metadata": {
    "collapsed": false
   },
   "outputs": [
    {
     "data": {
      "text/plain": [
       "Domestic Shorthair Mix       8810\n",
       "Pit Bull Mix                 1906\n",
       "Chihuahua Shorthair Mix      1766\n",
       "Labrador Retriever Mix       1363\n",
       "Domestic Medium Hair Mix      839\n",
       "German Shepherd Mix           575\n",
       "Domestic Longhair Mix         520\n",
       "Siamese Mix                   389\n",
       "Australian Cattle Dog Mix     367\n",
       "Dachshund Mix                 318\n",
       "Name: Breed, dtype: int64"
      ]
     },
     "execution_count": 642,
     "metadata": {},
     "output_type": "execute_result"
    }
   ],
   "source": [
    "df['Breed'].value_counts()[0:10]"
   ]
  },
  {
   "cell_type": "code",
   "execution_count": 643,
   "metadata": {
    "collapsed": false
   },
   "outputs": [
    {
     "data": {
      "text/plain": [
       "Domestic Shorthair Mix      8810\n",
       "Domestic Medium Hair Mix     839\n",
       "Domestic Longhair Mix        520\n",
       "Siamese Mix                  389\n",
       "Domestic Shorthair           143\n",
       "Snowshoe Mix                  75\n",
       "Maine Coon Mix                44\n",
       "Manx Mix                      44\n",
       "Domestic Medium Hair          42\n",
       "Russian Blue Mix              33\n",
       "Name: Breed, dtype: int64"
      ]
     },
     "execution_count": 643,
     "metadata": {},
     "output_type": "execute_result"
    }
   ],
   "source": [
    "df[df['AnimalType'] == 'Cat']['Breed'].value_counts()[0:10]"
   ]
  },
  {
   "cell_type": "code",
   "execution_count": 644,
   "metadata": {
    "collapsed": false
   },
   "outputs": [
    {
     "data": {
      "text/plain": [
       "60"
      ]
     },
     "execution_count": 644,
     "metadata": {},
     "output_type": "execute_result"
    }
   ],
   "source": [
    "len(df[df['AnimalType'] == 'Cat']['Breed'].unique())"
   ]
  },
  {
   "cell_type": "code",
   "execution_count": 645,
   "metadata": {
    "collapsed": false
   },
   "outputs": [
    {
     "data": {
      "text/plain": [
       "1320"
      ]
     },
     "execution_count": 645,
     "metadata": {},
     "output_type": "execute_result"
    }
   ],
   "source": [
    "len(df[df['AnimalType'] == 'Dog']['Breed'].unique())"
   ]
  },
  {
   "cell_type": "markdown",
   "metadata": {},
   "source": [
    "#### Domestic Shorthair Mix seems to be a classification for cats only\n",
    "\n",
    "- Cat breeds seem to be somewhat limited with 60 different breeds while dogs have 1320 different classifications. We will only simplify dog breeds."
   ]
  },
  {
   "cell_type": "code",
   "execution_count": 646,
   "metadata": {
    "collapsed": false
   },
   "outputs": [
    {
     "data": {
      "text/plain": [
       "Pit Bull Mix                 1906\n",
       "Chihuahua Shorthair Mix      1766\n",
       "Labrador Retriever Mix       1363\n",
       "German Shepherd Mix           575\n",
       "Australian Cattle Dog Mix     367\n",
       "Dachshund Mix                 318\n",
       "Boxer Mix                     245\n",
       "Miniature Poodle Mix          233\n",
       "Border Collie Mix             229\n",
       "Australian Shepherd Mix       163\n",
       "Rat Terrier Mix               157\n",
       "Catahoula Mix                 157\n",
       "Jack Russell Terrier Mix      146\n",
       "Yorkshire Terrier Mix         143\n",
       "Chihuahua Longhair Mix        142\n",
       "Siberian Husky Mix            138\n",
       "Miniature Schnauzer Mix       136\n",
       "Beagle Mix                    124\n",
       "Rottweiler Mix                113\n",
       "American Bulldog Mix          109\n",
       "Name: Breed, dtype: int64"
      ]
     },
     "execution_count": 646,
     "metadata": {},
     "output_type": "execute_result"
    }
   ],
   "source": [
    "df[df['AnimalType'] == 'Dog']['Breed'].value_counts()[0:20]"
   ]
  },
  {
   "cell_type": "code",
   "execution_count": 647,
   "metadata": {
    "collapsed": false
   },
   "outputs": [],
   "source": [
    "import re\n",
    "\n",
    "dog_breeds = list(df[df['AnimalType'] == 'Dog']['Breed'])\n",
    "for i in range(len(dog_breeds)):\n",
    "    if ('Mix' in dog_breeds[i]):\n",
    "        dog_breeds[i] = re.sub(' Mix', '', dog_breeds[i])\n",
    "    else:\n",
    "        dog_breeds[i] = dog_breeds[i].split(\"/\")[0]\n",
    "    \n",
    "            "
   ]
  },
  {
   "cell_type": "markdown",
   "metadata": {},
   "source": [
    "###### Let's remove the \"Mix\" from the dog breeds and also take only the first breed from classifications in the form \"breed 1 / breed 2\", assuming that the first breed listed is the dominant breed"
   ]
  },
  {
   "cell_type": "code",
   "execution_count": 648,
   "metadata": {
    "collapsed": false
   },
   "outputs": [],
   "source": [
    "dog_breeds_df = pd.DataFrame({'Breed':dog_breeds})"
   ]
  },
  {
   "cell_type": "code",
   "execution_count": 649,
   "metadata": {
    "collapsed": false
   },
   "outputs": [
    {
     "data": {
      "text/plain": [
       "188"
      ]
     },
     "execution_count": 649,
     "metadata": {},
     "output_type": "execute_result"
    }
   ],
   "source": [
    "len(dog_breeds_df['Breed'].unique())"
   ]
  },
  {
   "cell_type": "markdown",
   "metadata": {},
   "source": [
    "###### We were able to narrow down the different classes of dog breeds from 1320 to 188"
   ]
  },
  {
   "cell_type": "code",
   "execution_count": 650,
   "metadata": {
    "collapsed": false
   },
   "outputs": [
    {
     "data": {
      "text/plain": [
       "Chihuahua Shorthair      2145\n",
       "Pit Bull                 2113\n",
       "Labrador Retriever       1915\n",
       "German Shepherd           826\n",
       "Australian Cattle Dog     511\n",
       "Dachshund                 510\n",
       "Boxer                     360\n",
       "Border Collie             334\n",
       "Miniature Poodle          310\n",
       "Australian Shepherd       229\n",
       "Name: Breed, dtype: int64"
      ]
     },
     "execution_count": 650,
     "metadata": {},
     "output_type": "execute_result"
    }
   ],
   "source": [
    "dog_breeds_df['Breed'].value_counts()[0:10]"
   ]
  },
  {
   "cell_type": "markdown",
   "metadata": {},
   "source": [
    "###### Now let's replace all the dog breed classifications from the original dataframe with the new breed classifications"
   ]
  },
  {
   "cell_type": "code",
   "execution_count": 651,
   "metadata": {
    "collapsed": false
   },
   "outputs": [],
   "source": [
    "df.ix[df.AnimalType == 'Dog', 'Breed'] = dog_breeds"
   ]
  },
  {
   "cell_type": "code",
   "execution_count": 652,
   "metadata": {
    "collapsed": false
   },
   "outputs": [
    {
     "data": {
      "text/plain": [
       "248"
      ]
     },
     "execution_count": 652,
     "metadata": {},
     "output_type": "execute_result"
    }
   ],
   "source": [
    "len(df['Breed'].unique())"
   ]
  },
  {
   "cell_type": "markdown",
   "metadata": {},
   "source": [
    "###### Now, let's simplify the color Column"
   ]
  },
  {
   "cell_type": "code",
   "execution_count": 653,
   "metadata": {
    "collapsed": false
   },
   "outputs": [
    {
     "data": {
      "text/plain": [
       "366"
      ]
     },
     "execution_count": 653,
     "metadata": {},
     "output_type": "execute_result"
    }
   ],
   "source": [
    "len(df['Color'].unique())"
   ]
  },
  {
   "cell_type": "code",
   "execution_count": 654,
   "metadata": {
    "collapsed": false
   },
   "outputs": [
    {
     "data": {
      "text/plain": [
       "262"
      ]
     },
     "execution_count": 654,
     "metadata": {},
     "output_type": "execute_result"
    }
   ],
   "source": [
    "len(df[df['AnimalType'] == 'Dog']['Color'].unique())"
   ]
  },
  {
   "cell_type": "markdown",
   "metadata": {},
   "source": [
    "### Simplify the date and time column\n",
    "- Let's divide the dates into seasons of the year"
   ]
  },
  {
   "cell_type": "code",
   "execution_count": 655,
   "metadata": {
    "collapsed": false
   },
   "outputs": [
    {
     "data": {
      "text/plain": [
       "0    2014-02-12 18:22:00\n",
       "1    2013-10-13 12:44:00\n",
       "2    2015-01-31 12:28:00\n",
       "3    2014-07-11 19:09:00\n",
       "4    2013-11-15 12:52:00\n",
       "Name: DateTime, dtype: object"
      ]
     },
     "execution_count": 655,
     "metadata": {},
     "output_type": "execute_result"
    }
   ],
   "source": [
    "df['DateTime'].head()"
   ]
  },
  {
   "cell_type": "code",
   "execution_count": 656,
   "metadata": {
    "collapsed": false
   },
   "outputs": [],
   "source": [
    "from datetime import datetime\n",
    "d = df['DateTime'][0].split()[0]\n",
    "date = datetime.strptime(d, '%Y-%m-%d')"
   ]
  },
  {
   "cell_type": "code",
   "execution_count": 658,
   "metadata": {
    "collapsed": false
   },
   "outputs": [],
   "source": [
    "# season = []\n",
    "# for i in range(len(df['DateTime'])):\n",
    "#     d = df['DateTime'][i].split()[0]\n",
    "#     date = datetime.strptime(d, '%Y-%m-%d')\n",
    "#     if (date.month >= 11):\n",
    "#         season.append('Winter')\n",
    "#     elif (date.month == 1):\n",
    "#         season.append('Winter')\n",
    "#     elif (date.month >= 2) & (date.month <= 5):\n",
    "#         season.append('Spring')\n",
    "#     elif (date.month >= 6) & (date.month <= 8):\n",
    "#         season.append('Summer')\n",
    "#     else:\n",
    "#         season.append('Fall')\n",
    "month = []\n",
    "for i in range(len(df['DateTime'])):\n",
    "    d = df['DateTime'][i].split()[0]\n",
    "    date = datetime.strptime(d, '%Y-%m-%d')\n",
    "    if (date.month == 1):\n",
    "        month.append('January')\n",
    "    elif (date.month == 2):\n",
    "        month.append('February')\n",
    "    elif (date.month == 3):\n",
    "        month.append('March')\n",
    "    elif (date.month == 4):\n",
    "        month.append('April')\n",
    "    elif (date.month == 5):\n",
    "        month.append('May')\n",
    "    elif (date.month == 6):\n",
    "        month.append('June')\n",
    "    elif (date.month == 7):\n",
    "        month.append('July')\n",
    "    elif (date.month == 8):\n",
    "        month.append('August')\n",
    "    elif (date.month == 9):\n",
    "        month.append('September')\n",
    "    elif (date.month == 10):\n",
    "        month.append('October')\n",
    "    elif (date.month == 11):\n",
    "        month.append('November')\n",
    "    else:\n",
    "        month.append('December')"
   ]
  },
  {
   "cell_type": "code",
   "execution_count": 659,
   "metadata": {
    "collapsed": false
   },
   "outputs": [],
   "source": [
    "df['Month'] = month"
   ]
  },
  {
   "cell_type": "code",
   "execution_count": 660,
   "metadata": {
    "collapsed": false
   },
   "outputs": [
    {
     "data": {
      "text/html": [
       "<div>\n",
       "<table border=\"1\" class=\"dataframe\">\n",
       "  <thead>\n",
       "    <tr style=\"text-align: right;\">\n",
       "      <th></th>\n",
       "      <th>AnimalID</th>\n",
       "      <th>Name</th>\n",
       "      <th>DateTime</th>\n",
       "      <th>OutcomeType</th>\n",
       "      <th>OutcomeSubtype</th>\n",
       "      <th>AnimalType</th>\n",
       "      <th>AgeuponOutcome</th>\n",
       "      <th>Breed</th>\n",
       "      <th>Color</th>\n",
       "      <th>Fixed</th>\n",
       "      <th>Male</th>\n",
       "      <th>Month</th>\n",
       "    </tr>\n",
       "  </thead>\n",
       "  <tbody>\n",
       "    <tr>\n",
       "      <th>0</th>\n",
       "      <td>A671945</td>\n",
       "      <td>Hambone</td>\n",
       "      <td>2014-02-12 18:22:00</td>\n",
       "      <td>Return_to_owner</td>\n",
       "      <td>NaN</td>\n",
       "      <td>Dog</td>\n",
       "      <td>1.000000</td>\n",
       "      <td>Shetland Sheepdog</td>\n",
       "      <td>Brown/White</td>\n",
       "      <td>1.0</td>\n",
       "      <td>1.0</td>\n",
       "      <td>February</td>\n",
       "    </tr>\n",
       "    <tr>\n",
       "      <th>1</th>\n",
       "      <td>A656520</td>\n",
       "      <td>Emily</td>\n",
       "      <td>2013-10-13 12:44:00</td>\n",
       "      <td>Euthanasia</td>\n",
       "      <td>Suffering</td>\n",
       "      <td>Cat</td>\n",
       "      <td>1.000000</td>\n",
       "      <td>Domestic Shorthair Mix</td>\n",
       "      <td>Cream Tabby</td>\n",
       "      <td>1.0</td>\n",
       "      <td>0.0</td>\n",
       "      <td>October</td>\n",
       "    </tr>\n",
       "    <tr>\n",
       "      <th>2</th>\n",
       "      <td>A686464</td>\n",
       "      <td>Pearce</td>\n",
       "      <td>2015-01-31 12:28:00</td>\n",
       "      <td>Adoption</td>\n",
       "      <td>Foster</td>\n",
       "      <td>Dog</td>\n",
       "      <td>2.000000</td>\n",
       "      <td>Pit Bull</td>\n",
       "      <td>Blue/White</td>\n",
       "      <td>1.0</td>\n",
       "      <td>1.0</td>\n",
       "      <td>January</td>\n",
       "    </tr>\n",
       "    <tr>\n",
       "      <th>3</th>\n",
       "      <td>A683430</td>\n",
       "      <td>NaN</td>\n",
       "      <td>2014-07-11 19:09:00</td>\n",
       "      <td>Transfer</td>\n",
       "      <td>Partner</td>\n",
       "      <td>Cat</td>\n",
       "      <td>0.057692</td>\n",
       "      <td>Domestic Shorthair Mix</td>\n",
       "      <td>Blue Cream</td>\n",
       "      <td>0.0</td>\n",
       "      <td>1.0</td>\n",
       "      <td>July</td>\n",
       "    </tr>\n",
       "    <tr>\n",
       "      <th>4</th>\n",
       "      <td>A667013</td>\n",
       "      <td>NaN</td>\n",
       "      <td>2013-11-15 12:52:00</td>\n",
       "      <td>Transfer</td>\n",
       "      <td>Partner</td>\n",
       "      <td>Dog</td>\n",
       "      <td>2.000000</td>\n",
       "      <td>Lhasa Apso</td>\n",
       "      <td>Tan</td>\n",
       "      <td>1.0</td>\n",
       "      <td>1.0</td>\n",
       "      <td>November</td>\n",
       "    </tr>\n",
       "  </tbody>\n",
       "</table>\n",
       "</div>"
      ],
      "text/plain": [
       "  AnimalID     Name             DateTime      OutcomeType OutcomeSubtype  \\\n",
       "0  A671945  Hambone  2014-02-12 18:22:00  Return_to_owner            NaN   \n",
       "1  A656520    Emily  2013-10-13 12:44:00       Euthanasia      Suffering   \n",
       "2  A686464   Pearce  2015-01-31 12:28:00         Adoption         Foster   \n",
       "3  A683430      NaN  2014-07-11 19:09:00         Transfer        Partner   \n",
       "4  A667013      NaN  2013-11-15 12:52:00         Transfer        Partner   \n",
       "\n",
       "  AnimalType  AgeuponOutcome                   Breed        Color  Fixed  \\\n",
       "0        Dog        1.000000       Shetland Sheepdog  Brown/White    1.0   \n",
       "1        Cat        1.000000  Domestic Shorthair Mix  Cream Tabby    1.0   \n",
       "2        Dog        2.000000                Pit Bull   Blue/White    1.0   \n",
       "3        Cat        0.057692  Domestic Shorthair Mix   Blue Cream    0.0   \n",
       "4        Dog        2.000000              Lhasa Apso          Tan    1.0   \n",
       "\n",
       "   Male     Month  \n",
       "0   1.0  February  \n",
       "1   0.0   October  \n",
       "2   1.0   January  \n",
       "3   1.0      July  \n",
       "4   1.0  November  "
      ]
     },
     "execution_count": 660,
     "metadata": {},
     "output_type": "execute_result"
    }
   ],
   "source": [
    "df.head()"
   ]
  },
  {
   "cell_type": "markdown",
   "metadata": {},
   "source": [
    "### Create Dummy Variables for Columns with Categorical Variables"
   ]
  },
  {
   "cell_type": "code",
   "execution_count": 661,
   "metadata": {
    "collapsed": true
   },
   "outputs": [],
   "source": [
    "cat_var = ['Color', 'Breed', 'Month']\n",
    "\n",
    "def dummy(df, list):\n",
    "    for x in cat_var:\n",
    "        df1 = pd.get_dummies(df[x])\n",
    "        df = df.drop(x,axis = 1)\n",
    "        df = pd.concat([df,df1], axis = 1)\n",
    "    return df"
   ]
  },
  {
   "cell_type": "code",
   "execution_count": 662,
   "metadata": {
    "collapsed": true
   },
   "outputs": [],
   "source": [
    "dat = dummy(df, cat_var)"
   ]
  },
  {
   "cell_type": "markdown",
   "metadata": {},
   "source": [
    "### Check dimensions of data frame to check dummy function"
   ]
  },
  {
   "cell_type": "code",
   "execution_count": 663,
   "metadata": {
    "collapsed": false
   },
   "outputs": [
    {
     "data": {
      "text/plain": [
       "635"
      ]
     },
     "execution_count": 663,
     "metadata": {},
     "output_type": "execute_result"
    }
   ],
   "source": [
    "len(dat.columns.values)"
   ]
  },
  {
   "cell_type": "code",
   "execution_count": 664,
   "metadata": {
    "collapsed": false
   },
   "outputs": [
    {
     "data": {
      "text/plain": [
       "12"
      ]
     },
     "execution_count": 664,
     "metadata": {},
     "output_type": "execute_result"
    }
   ],
   "source": [
    "len(df.columns.values)"
   ]
  },
  {
   "cell_type": "code",
   "execution_count": 666,
   "metadata": {
    "collapsed": false
   },
   "outputs": [
    {
     "data": {
      "text/plain": [
       "635"
      ]
     },
     "execution_count": 666,
     "metadata": {},
     "output_type": "execute_result"
    }
   ],
   "source": [
    "len(df['Breed'].unique()) + len(df['Color'].unique()) + len(df['Month'].unique()) - 2 + 11"
   ]
  },
  {
   "cell_type": "markdown",
   "metadata": {},
   "source": [
    "### Create Indicator Column whether the animal was given a name or not"
   ]
  },
  {
   "cell_type": "code",
   "execution_count": 667,
   "metadata": {
    "collapsed": false
   },
   "outputs": [],
   "source": [
    "# df['Name'].value_counts(dropna = False)?\n"
   ]
  },
  {
   "cell_type": "code",
   "execution_count": 668,
   "metadata": {
    "collapsed": false
   },
   "outputs": [],
   "source": [
    "dat['Name'] = df['Name'].isnull() * 1.\n",
    "dat = dat.rename(columns = {'Name':'NoName'})"
   ]
  },
  {
   "cell_type": "code",
   "execution_count": 669,
   "metadata": {
    "collapsed": false
   },
   "outputs": [
    {
     "data": {
      "text/html": [
       "<div>\n",
       "<table border=\"1\" class=\"dataframe\">\n",
       "  <thead>\n",
       "    <tr style=\"text-align: right;\">\n",
       "      <th></th>\n",
       "      <th>AnimalID</th>\n",
       "      <th>NoName</th>\n",
       "      <th>DateTime</th>\n",
       "      <th>OutcomeType</th>\n",
       "      <th>OutcomeSubtype</th>\n",
       "      <th>AnimalType</th>\n",
       "      <th>AgeuponOutcome</th>\n",
       "      <th>Fixed</th>\n",
       "      <th>Male</th>\n",
       "      <th>Agouti</th>\n",
       "      <th>...</th>\n",
       "      <th>December</th>\n",
       "      <th>February</th>\n",
       "      <th>January</th>\n",
       "      <th>July</th>\n",
       "      <th>June</th>\n",
       "      <th>March</th>\n",
       "      <th>May</th>\n",
       "      <th>November</th>\n",
       "      <th>October</th>\n",
       "      <th>September</th>\n",
       "    </tr>\n",
       "  </thead>\n",
       "  <tbody>\n",
       "    <tr>\n",
       "      <th>0</th>\n",
       "      <td>A671945</td>\n",
       "      <td>0.0</td>\n",
       "      <td>2014-02-12 18:22:00</td>\n",
       "      <td>Return_to_owner</td>\n",
       "      <td>NaN</td>\n",
       "      <td>Dog</td>\n",
       "      <td>1.000000</td>\n",
       "      <td>1.0</td>\n",
       "      <td>1.0</td>\n",
       "      <td>0.0</td>\n",
       "      <td>...</td>\n",
       "      <td>0.0</td>\n",
       "      <td>1.0</td>\n",
       "      <td>0.0</td>\n",
       "      <td>0.0</td>\n",
       "      <td>0.0</td>\n",
       "      <td>0.0</td>\n",
       "      <td>0.0</td>\n",
       "      <td>0.0</td>\n",
       "      <td>0.0</td>\n",
       "      <td>0.0</td>\n",
       "    </tr>\n",
       "    <tr>\n",
       "      <th>1</th>\n",
       "      <td>A656520</td>\n",
       "      <td>0.0</td>\n",
       "      <td>2013-10-13 12:44:00</td>\n",
       "      <td>Euthanasia</td>\n",
       "      <td>Suffering</td>\n",
       "      <td>Cat</td>\n",
       "      <td>1.000000</td>\n",
       "      <td>1.0</td>\n",
       "      <td>0.0</td>\n",
       "      <td>0.0</td>\n",
       "      <td>...</td>\n",
       "      <td>0.0</td>\n",
       "      <td>0.0</td>\n",
       "      <td>0.0</td>\n",
       "      <td>0.0</td>\n",
       "      <td>0.0</td>\n",
       "      <td>0.0</td>\n",
       "      <td>0.0</td>\n",
       "      <td>0.0</td>\n",
       "      <td>1.0</td>\n",
       "      <td>0.0</td>\n",
       "    </tr>\n",
       "    <tr>\n",
       "      <th>2</th>\n",
       "      <td>A686464</td>\n",
       "      <td>0.0</td>\n",
       "      <td>2015-01-31 12:28:00</td>\n",
       "      <td>Adoption</td>\n",
       "      <td>Foster</td>\n",
       "      <td>Dog</td>\n",
       "      <td>2.000000</td>\n",
       "      <td>1.0</td>\n",
       "      <td>1.0</td>\n",
       "      <td>0.0</td>\n",
       "      <td>...</td>\n",
       "      <td>0.0</td>\n",
       "      <td>0.0</td>\n",
       "      <td>1.0</td>\n",
       "      <td>0.0</td>\n",
       "      <td>0.0</td>\n",
       "      <td>0.0</td>\n",
       "      <td>0.0</td>\n",
       "      <td>0.0</td>\n",
       "      <td>0.0</td>\n",
       "      <td>0.0</td>\n",
       "    </tr>\n",
       "    <tr>\n",
       "      <th>3</th>\n",
       "      <td>A683430</td>\n",
       "      <td>1.0</td>\n",
       "      <td>2014-07-11 19:09:00</td>\n",
       "      <td>Transfer</td>\n",
       "      <td>Partner</td>\n",
       "      <td>Cat</td>\n",
       "      <td>0.057692</td>\n",
       "      <td>0.0</td>\n",
       "      <td>1.0</td>\n",
       "      <td>0.0</td>\n",
       "      <td>...</td>\n",
       "      <td>0.0</td>\n",
       "      <td>0.0</td>\n",
       "      <td>0.0</td>\n",
       "      <td>1.0</td>\n",
       "      <td>0.0</td>\n",
       "      <td>0.0</td>\n",
       "      <td>0.0</td>\n",
       "      <td>0.0</td>\n",
       "      <td>0.0</td>\n",
       "      <td>0.0</td>\n",
       "    </tr>\n",
       "    <tr>\n",
       "      <th>4</th>\n",
       "      <td>A667013</td>\n",
       "      <td>1.0</td>\n",
       "      <td>2013-11-15 12:52:00</td>\n",
       "      <td>Transfer</td>\n",
       "      <td>Partner</td>\n",
       "      <td>Dog</td>\n",
       "      <td>2.000000</td>\n",
       "      <td>1.0</td>\n",
       "      <td>1.0</td>\n",
       "      <td>0.0</td>\n",
       "      <td>...</td>\n",
       "      <td>0.0</td>\n",
       "      <td>0.0</td>\n",
       "      <td>0.0</td>\n",
       "      <td>0.0</td>\n",
       "      <td>0.0</td>\n",
       "      <td>0.0</td>\n",
       "      <td>0.0</td>\n",
       "      <td>1.0</td>\n",
       "      <td>0.0</td>\n",
       "      <td>0.0</td>\n",
       "    </tr>\n",
       "  </tbody>\n",
       "</table>\n",
       "<p>5 rows × 635 columns</p>\n",
       "</div>"
      ],
      "text/plain": [
       "  AnimalID  NoName             DateTime      OutcomeType OutcomeSubtype  \\\n",
       "0  A671945     0.0  2014-02-12 18:22:00  Return_to_owner            NaN   \n",
       "1  A656520     0.0  2013-10-13 12:44:00       Euthanasia      Suffering   \n",
       "2  A686464     0.0  2015-01-31 12:28:00         Adoption         Foster   \n",
       "3  A683430     1.0  2014-07-11 19:09:00         Transfer        Partner   \n",
       "4  A667013     1.0  2013-11-15 12:52:00         Transfer        Partner   \n",
       "\n",
       "  AnimalType  AgeuponOutcome  Fixed  Male  Agouti    ...      December  \\\n",
       "0        Dog        1.000000    1.0   1.0     0.0    ...           0.0   \n",
       "1        Cat        1.000000    1.0   0.0     0.0    ...           0.0   \n",
       "2        Dog        2.000000    1.0   1.0     0.0    ...           0.0   \n",
       "3        Cat        0.057692    0.0   1.0     0.0    ...           0.0   \n",
       "4        Dog        2.000000    1.0   1.0     0.0    ...           0.0   \n",
       "\n",
       "   February  January  July  June  March  May  November  October  September  \n",
       "0       1.0      0.0   0.0   0.0    0.0  0.0       0.0      0.0        0.0  \n",
       "1       0.0      0.0   0.0   0.0    0.0  0.0       0.0      1.0        0.0  \n",
       "2       0.0      1.0   0.0   0.0    0.0  0.0       0.0      0.0        0.0  \n",
       "3       0.0      0.0   1.0   0.0    0.0  0.0       0.0      0.0        0.0  \n",
       "4       0.0      0.0   0.0   0.0    0.0  0.0       1.0      0.0        0.0  \n",
       "\n",
       "[5 rows x 635 columns]"
      ]
     },
     "execution_count": 669,
     "metadata": {},
     "output_type": "execute_result"
    }
   ],
   "source": [
    "dat.head()"
   ]
  },
  {
   "cell_type": "markdown",
   "metadata": {},
   "source": [
    "### Create column for indicator of Animal Type"
   ]
  },
  {
   "cell_type": "code",
   "execution_count": 670,
   "metadata": {
    "collapsed": false
   },
   "outputs": [
    {
     "data": {
      "text/plain": [
       "array(['Dog', 'Cat'], dtype=object)"
      ]
     },
     "execution_count": 670,
     "metadata": {},
     "output_type": "execute_result"
    }
   ],
   "source": [
    "df['AnimalType'].unique()"
   ]
  },
  {
   "cell_type": "code",
   "execution_count": 671,
   "metadata": {
    "collapsed": false
   },
   "outputs": [],
   "source": [
    "dat['AnimalType'] = (df['AnimalType'] == 'Dog') * 1."
   ]
  },
  {
   "cell_type": "markdown",
   "metadata": {},
   "source": [
    "### Create Labels"
   ]
  },
  {
   "cell_type": "code",
   "execution_count": 672,
   "metadata": {
    "collapsed": false
   },
   "outputs": [],
   "source": [
    "lab = dat['OutcomeType']"
   ]
  },
  {
   "cell_type": "code",
   "execution_count": 673,
   "metadata": {
    "collapsed": false
   },
   "outputs": [
    {
     "data": {
      "text/plain": [
       "26729"
      ]
     },
     "execution_count": 673,
     "metadata": {},
     "output_type": "execute_result"
    }
   ],
   "source": [
    "len(lab)"
   ]
  },
  {
   "cell_type": "code",
   "execution_count": 674,
   "metadata": {
    "collapsed": false
   },
   "outputs": [],
   "source": [
    "# labels = (lab != 'Euthanasia') * 1."
   ]
  },
  {
   "cell_type": "code",
   "execution_count": 675,
   "metadata": {
    "collapsed": false
   },
   "outputs": [
    {
     "data": {
      "text/plain": [
       "Adoption           10769\n",
       "Transfer            9422\n",
       "Return_to_owner     4786\n",
       "Euthanasia          1555\n",
       "Died                 197\n",
       "Name: OutcomeType, dtype: int64"
      ]
     },
     "execution_count": 675,
     "metadata": {},
     "output_type": "execute_result"
    }
   ],
   "source": [
    "lab.value_counts()"
   ]
  },
  {
   "cell_type": "code",
   "execution_count": 676,
   "metadata": {
    "collapsed": false
   },
   "outputs": [],
   "source": [
    "labels = np.zeros(len(lab))\n",
    "for i in range(len(lab)):\n",
    "    if lab[i] == 'Adoption':\n",
    "        labels[i] = 0\n",
    "    elif lab[i] == 'Transfer':\n",
    "        labels[i] = 1\n",
    "    elif lab[i] == 'Return_to_owner':\n",
    "        labels[i] = 2\n",
    "    elif lab[i] == 'Euthanasia':\n",
    "        labels[i] = 3\n",
    "    else:\n",
    "        labels[i] = 4"
   ]
  },
  {
   "cell_type": "code",
   "execution_count": 677,
   "metadata": {
    "collapsed": false
   },
   "outputs": [
    {
     "data": {
      "text/plain": [
       "array([dtype('float64')], dtype=object)"
      ]
     },
     "execution_count": 677,
     "metadata": {},
     "output_type": "execute_result"
    }
   ],
   "source": [
    "dat.drop(['AnimalID','DateTime','OutcomeType','OutcomeSubtype'],axis = 1).dtypes.unique()"
   ]
  },
  {
   "cell_type": "code",
   "execution_count": 678,
   "metadata": {
    "collapsed": false
   },
   "outputs": [],
   "source": [
    "dat = dat.drop(['AnimalID','DateTime','OutcomeType','OutcomeSubtype'],axis = 1)"
   ]
  },
  {
   "cell_type": "markdown",
   "metadata": {},
   "source": [
    "### Create Training and Testing Sets"
   ]
  },
  {
   "cell_type": "code",
   "execution_count": 679,
   "metadata": {
    "collapsed": true
   },
   "outputs": [],
   "source": [
    "from sklearn.cross_validation import train_test_split"
   ]
  },
  {
   "cell_type": "code",
   "execution_count": 680,
   "metadata": {
    "collapsed": false
   },
   "outputs": [],
   "source": [
    "X_train, X_test, Y_train, Y_test = train_test_split(dat, labels, test_size = 0.30)"
   ]
  },
  {
   "cell_type": "code",
   "execution_count": 681,
   "metadata": {
    "collapsed": false
   },
   "outputs": [
    {
     "data": {
      "text/plain": [
       "0.6999887762355494"
      ]
     },
     "execution_count": 681,
     "metadata": {},
     "output_type": "execute_result"
    }
   ],
   "source": [
    "len(X_train)/float(len(dat))"
   ]
  },
  {
   "cell_type": "code",
   "execution_count": 682,
   "metadata": {
    "collapsed": true
   },
   "outputs": [],
   "source": [
    "from sklearn.preprocessing import normalize\n",
    "\n",
    "X_train = normalize(X_train, axis = 0)\n",
    "X_test = normalize(X_test, axis = 0)"
   ]
  },
  {
   "cell_type": "markdown",
   "metadata": {},
   "source": [
    "### Logistic Regression"
   ]
  },
  {
   "cell_type": "code",
   "execution_count": 683,
   "metadata": {
    "collapsed": false
   },
   "outputs": [],
   "source": [
    "from sklearn.multiclass import OneVsRestClassifier\n",
    "from sklearn.svm import SVC\n",
    "from sklearn.linear_model import LogisticRegression"
   ]
  },
  {
   "cell_type": "code",
   "execution_count": 684,
   "metadata": {
    "collapsed": false
   },
   "outputs": [
    {
     "data": {
      "text/plain": [
       "LogisticRegression(C=1.0, class_weight=None, dual=False, fit_intercept=True,\n",
       "          intercept_scaling=1, max_iter=100, multi_class='ovr', n_jobs=1,\n",
       "          penalty='l1', random_state=None, solver='liblinear', tol=0.0001,\n",
       "          verbose=0, warm_start=False)"
      ]
     },
     "execution_count": 684,
     "metadata": {},
     "output_type": "execute_result"
    }
   ],
   "source": [
    "lm = LogisticRegression(penalty = 'l1', multi_class = 'ovr', C = 1.0)\n",
    "lm.fit(X_train,Y_train)"
   ]
  },
  {
   "cell_type": "code",
   "execution_count": 685,
   "metadata": {
    "collapsed": false
   },
   "outputs": [
    {
     "data": {
      "text/plain": [
       "0.63399426362389322"
      ]
     },
     "execution_count": 685,
     "metadata": {},
     "output_type": "execute_result"
    }
   ],
   "source": [
    "lm.score(X_test, Y_test)"
   ]
  },
  {
   "cell_type": "code",
   "execution_count": 686,
   "metadata": {
    "collapsed": false
   },
   "outputs": [
    {
     "data": {
      "text/plain": [
       "0.98901530167885643"
      ]
     },
     "execution_count": 686,
     "metadata": {},
     "output_type": "execute_result"
    }
   ],
   "source": [
    "from sklearn.metrics import log_loss\n",
    "log_loss(Y_test, lm.predict_proba(X_test))"
   ]
  },
  {
   "cell_type": "markdown",
   "metadata": {},
   "source": [
    "### Gradient Boosting"
   ]
  },
  {
   "cell_type": "code",
   "execution_count": 691,
   "metadata": {
    "collapsed": true
   },
   "outputs": [],
   "source": [
    "from sklearn.ensemble import GradientBoostingClassifier"
   ]
  },
  {
   "cell_type": "code",
   "execution_count": 692,
   "metadata": {
    "collapsed": true
   },
   "outputs": [],
   "source": [
    "gb_model = GradientBoostingClassifier(n_estimators = 300)"
   ]
  },
  {
   "cell_type": "code",
   "execution_count": 693,
   "metadata": {
    "collapsed": false
   },
   "outputs": [
    {
     "data": {
      "text/plain": [
       "GradientBoostingClassifier(init=None, learning_rate=0.1, loss='deviance',\n",
       "              max_depth=3, max_features=None, max_leaf_nodes=None,\n",
       "              min_samples_leaf=1, min_samples_split=2,\n",
       "              min_weight_fraction_leaf=0.0, n_estimators=300,\n",
       "              presort='auto', random_state=None, subsample=1.0, verbose=0,\n",
       "              warm_start=False)"
      ]
     },
     "execution_count": 693,
     "metadata": {},
     "output_type": "execute_result"
    }
   ],
   "source": [
    "gb_model.fit(X_train,Y_train)"
   ]
  },
  {
   "cell_type": "code",
   "execution_count": 694,
   "metadata": {
    "collapsed": false
   },
   "outputs": [
    {
     "data": {
      "text/plain": [
       "0.63199900236937279"
      ]
     },
     "execution_count": 694,
     "metadata": {},
     "output_type": "execute_result"
    }
   ],
   "source": [
    "gb_model.score(X_test, Y_test)"
   ]
  },
  {
   "cell_type": "code",
   "execution_count": 695,
   "metadata": {
    "collapsed": false
   },
   "outputs": [
    {
     "data": {
      "text/plain": [
       "array([  2.75586921e-02,   1.37854099e-02,   1.68376976e-01,\n",
       "         4.34496738e-02,   1.91374841e-02,   1.51496428e-03,\n",
       "         0.00000000e+00,   7.94196050e-04,   0.00000000e+00,\n",
       "         2.28810480e-04,   4.26510622e-03,   3.75995470e-04,\n",
       "         1.23439656e-03,   3.64372507e-04,   2.01868380e-03,\n",
       "         1.32531965e-03,   2.78998218e-03,   0.00000000e+00,\n",
       "         8.17047789e-04,   1.38472387e-04,   1.55566586e-03,\n",
       "         6.76680750e-04,   1.42084453e-03,   2.24226974e-03,\n",
       "         0.00000000e+00,   0.00000000e+00,   0.00000000e+00,\n",
       "         1.50412333e-03,   5.93555782e-04,   0.00000000e+00,\n",
       "         1.54774125e-03,   1.56601606e-03,   4.57361353e-04,\n",
       "         2.39776321e-04,   1.16131224e-03,   1.36694316e-04,\n",
       "         9.82093122e-04,   0.00000000e+00,   0.00000000e+00,\n",
       "         1.00798198e-03,   0.00000000e+00,   4.27846611e-03,\n",
       "         6.14989039e-04,   7.86567206e-03,   0.00000000e+00,\n",
       "         9.72347211e-04,   1.28560420e-03,   4.11547388e-03,\n",
       "         0.00000000e+00,   1.46010320e-03,   0.00000000e+00,\n",
       "         4.80025510e-04,   1.35187025e-03,   2.40356247e-04,\n",
       "         1.37510657e-03,   0.00000000e+00,   9.05984880e-04,\n",
       "         0.00000000e+00,   2.86001796e-03,   0.00000000e+00,\n",
       "         8.08351214e-04,   4.57275627e-04,   0.00000000e+00,\n",
       "         3.89409166e-05,   1.67135618e-03,   0.00000000e+00,\n",
       "         2.80345524e-03,   0.00000000e+00,   2.87804075e-03,\n",
       "         0.00000000e+00,   2.21835103e-04,   0.00000000e+00,\n",
       "         0.00000000e+00,   1.00154237e-03,   9.69999946e-04,\n",
       "         7.37910161e-04,   0.00000000e+00,   0.00000000e+00,\n",
       "         0.00000000e+00,   1.17834111e-03,   2.87289427e-04,\n",
       "         7.37265720e-04,   0.00000000e+00,   5.46369228e-04,\n",
       "         1.79394744e-03,   0.00000000e+00,   1.51713262e-03,\n",
       "         0.00000000e+00,   0.00000000e+00,   3.35568644e-04,\n",
       "         8.03897359e-04,   2.92301574e-03,   0.00000000e+00,\n",
       "         4.39180178e-03,   3.81744457e-03,   7.89091013e-05,\n",
       "         5.69384559e-04,   1.18791022e-03,   1.84615277e-03,\n",
       "         0.00000000e+00,   0.00000000e+00,   4.11143670e-04,\n",
       "         9.45201426e-04,   2.42550631e-03,   3.01490576e-04,\n",
       "         0.00000000e+00,   6.30894649e-04,   0.00000000e+00,\n",
       "         2.31891839e-04,   1.69895527e-03,   2.25483068e-03,\n",
       "         7.54402130e-04,   1.78283562e-03,   0.00000000e+00,\n",
       "         7.04877373e-04,   0.00000000e+00,   2.01975025e-03,\n",
       "         6.93171848e-04,   1.77430057e-03,   3.31439652e-03,\n",
       "         1.71273297e-03,   0.00000000e+00,   9.03285522e-04,\n",
       "         1.25425955e-03,   1.11673029e-03,   1.02201834e-03,\n",
       "         0.00000000e+00,   0.00000000e+00,   9.83582079e-04,\n",
       "         1.75052433e-04,   8.30975989e-04,   0.00000000e+00,\n",
       "         0.00000000e+00,   9.04745824e-04,   0.00000000e+00,\n",
       "         6.40838245e-03,   1.18422769e-03,   5.35377879e-04,\n",
       "         0.00000000e+00,   0.00000000e+00,   7.63932446e-04,\n",
       "         2.43813016e-04,   7.71652425e-04,   5.31326313e-04,\n",
       "         8.82641482e-04,   0.00000000e+00,   4.29807200e-04,\n",
       "         0.00000000e+00,   0.00000000e+00,   1.59713553e-03,\n",
       "         0.00000000e+00,   0.00000000e+00,   2.54227286e-03,\n",
       "         0.00000000e+00,   1.35432154e-03,   4.82458722e-03,\n",
       "         6.54408165e-04,   0.00000000e+00,   4.04919685e-04,\n",
       "         0.00000000e+00,   1.40627406e-03,   0.00000000e+00,\n",
       "         0.00000000e+00,   0.00000000e+00,   5.14887924e-04,\n",
       "         7.67078266e-04,   1.41236257e-03,   0.00000000e+00,\n",
       "         1.03166765e-03,   0.00000000e+00,   7.87195825e-04,\n",
       "         3.04238580e-03,   4.97113543e-04,   1.22044825e-03,\n",
       "         1.01946208e-03,   8.07274015e-04,   7.09626893e-04,\n",
       "         0.00000000e+00,   4.90072818e-04,   0.00000000e+00,\n",
       "         2.20137553e-03,   9.27669886e-04,   1.44019899e-04,\n",
       "         1.93405475e-03,   7.41346684e-04,   1.66214660e-03,\n",
       "         0.00000000e+00,   0.00000000e+00,   1.35091740e-03,\n",
       "         1.29507991e-03,   9.02966531e-04,   2.80473676e-03,\n",
       "         3.06601363e-03,   0.00000000e+00,   2.23018830e-04,\n",
       "         2.59237384e-03,   5.35368760e-04,   7.24895606e-04,\n",
       "         1.82764079e-04,   2.01566985e-03,   2.05191298e-03,\n",
       "         2.08059263e-03,   1.27905348e-03,   6.62234619e-04,\n",
       "         1.55347084e-03,   0.00000000e+00,   9.09709093e-04,\n",
       "         5.55140337e-04,   5.54321247e-05,   1.49893411e-03,\n",
       "         0.00000000e+00,   2.30787601e-04,   0.00000000e+00,\n",
       "         8.74860393e-04,   0.00000000e+00,   7.20617811e-04,\n",
       "         7.92337327e-04,   0.00000000e+00,   0.00000000e+00,\n",
       "         2.49645325e-03,   1.35862827e-04,   1.27052866e-03,\n",
       "         0.00000000e+00,   0.00000000e+00,   1.47637427e-03,\n",
       "         1.68499108e-03,   0.00000000e+00,   0.00000000e+00,\n",
       "         1.84578495e-03,   5.19073635e-04,   0.00000000e+00,\n",
       "         2.28973716e-03,   1.81865282e-03,   0.00000000e+00,\n",
       "         1.29669409e-03,   1.24302771e-03,   1.16582317e-03,\n",
       "         0.00000000e+00,   2.03672046e-03,   3.96966314e-04,\n",
       "         0.00000000e+00,   9.40764304e-04,   3.85121386e-04,\n",
       "         9.85882345e-04,   7.97035156e-04,   1.51546090e-03,\n",
       "         5.78643868e-04,   6.04367340e-04,   5.61895543e-04,\n",
       "         0.00000000e+00,   0.00000000e+00,   0.00000000e+00,\n",
       "         1.27176280e-03,   6.62165638e-04,   6.95327788e-04,\n",
       "         4.51733687e-03,   0.00000000e+00,   4.98206677e-04,\n",
       "         4.62799599e-04,   0.00000000e+00,   0.00000000e+00,\n",
       "         1.70681307e-03,   0.00000000e+00,   1.57748976e-03,\n",
       "         1.16626295e-03,   8.19284396e-04,   6.95703774e-04,\n",
       "         1.14547811e-04,   2.48908200e-03,   0.00000000e+00,\n",
       "         4.07955162e-04,   6.32053824e-04,   3.19592358e-04,\n",
       "         0.00000000e+00,   0.00000000e+00,   1.16333872e-03,\n",
       "         0.00000000e+00,   2.91485776e-04,   1.55659333e-03,\n",
       "         3.82568890e-03,   0.00000000e+00,   0.00000000e+00,\n",
       "         7.74692008e-04,   1.57150229e-03,   1.84340527e-03,\n",
       "         0.00000000e+00,   1.16272427e-03,   0.00000000e+00,\n",
       "         8.57268627e-04,   5.54284989e-04,   4.35891057e-04,\n",
       "         7.19222330e-04,   3.81987721e-04,   4.96557155e-04,\n",
       "         2.91938500e-03,   0.00000000e+00,   1.35849697e-03,\n",
       "         0.00000000e+00,   0.00000000e+00,   1.42780324e-03,\n",
       "         4.96706042e-04,   1.63697899e-03,   0.00000000e+00,\n",
       "         1.06287245e-03,   6.65223733e-04,   0.00000000e+00,\n",
       "         0.00000000e+00,   6.13610646e-04,   0.00000000e+00,\n",
       "         0.00000000e+00,   4.41733019e-04,   0.00000000e+00,\n",
       "         1.57595882e-03,   4.55340631e-04,   0.00000000e+00,\n",
       "         1.23889511e-03,   0.00000000e+00,   0.00000000e+00,\n",
       "         0.00000000e+00,   1.57742049e-03,   9.59045353e-04,\n",
       "         0.00000000e+00,   6.89881861e-04,   2.59714245e-03,\n",
       "         0.00000000e+00,   4.15153549e-03,   5.30968414e-04,\n",
       "         0.00000000e+00,   0.00000000e+00,   1.65887469e-03,\n",
       "         1.06609671e-03,   1.34259159e-03,   2.59224797e-04,\n",
       "         1.73662241e-03,   4.28157066e-03,   2.13432206e-04,\n",
       "         4.65864574e-04,   2.05070754e-03,   8.30255693e-04,\n",
       "         4.96344302e-04,   1.46645434e-03,   9.59385903e-04,\n",
       "         0.00000000e+00,   0.00000000e+00,   0.00000000e+00,\n",
       "         0.00000000e+00,   7.31234394e-04,   7.35848187e-04,\n",
       "         1.28913610e-03,   8.17579293e-04,   7.03268111e-04,\n",
       "         2.10059683e-04,   1.32275303e-04,   3.57361646e-03,\n",
       "         3.23052345e-03,   8.80871198e-04,   1.25643159e-03,\n",
       "         6.24369236e-04,   2.22424966e-03,   8.16193441e-04,\n",
       "         1.53163765e-03,   1.35536555e-03,   6.58571587e-04,\n",
       "         1.96720899e-03,   3.90149828e-04,   0.00000000e+00,\n",
       "         9.99919388e-04,   1.73120615e-03,   0.00000000e+00,\n",
       "         9.24816493e-04,   0.00000000e+00,   0.00000000e+00,\n",
       "         1.51317743e-03,   1.44806375e-03,   1.22223153e-03,\n",
       "         5.92463502e-04,   3.66731614e-06,   9.45615830e-05,\n",
       "         3.53464892e-03,   2.20163568e-04,   3.95519401e-04,\n",
       "         9.10037193e-04,   1.62588571e-03,   4.56063917e-03,\n",
       "         2.37137538e-04,   1.51411116e-04,   1.06305064e-03,\n",
       "         2.68508763e-03,   1.16374635e-03,   7.91502743e-04,\n",
       "         3.73521432e-04,   9.14110793e-04,   1.54658464e-03,\n",
       "         9.15282905e-04,   0.00000000e+00,   0.00000000e+00,\n",
       "         1.18224039e-03,   4.24326924e-07,   0.00000000e+00,\n",
       "         1.56967010e-03,   1.45743652e-03,   4.85398916e-04,\n",
       "         7.44509664e-04,   1.43316923e-03,   4.34097223e-04,\n",
       "         1.05647017e-04,   3.54664502e-04,   2.14049119e-03,\n",
       "         3.83722509e-04,   4.91429452e-04,   0.00000000e+00,\n",
       "         1.24227165e-03,   7.52298431e-04,   8.81606555e-04,\n",
       "         3.53120193e-03,   1.76898847e-03,   1.22035111e-04,\n",
       "         0.00000000e+00,   4.51224427e-04,   0.00000000e+00,\n",
       "         1.43686349e-03,   6.00794081e-04,   6.16288419e-04,\n",
       "         1.31013113e-03,   8.71127043e-04,   0.00000000e+00,\n",
       "         9.99826044e-04,   1.21851594e-03,   6.15230624e-04,\n",
       "         8.75663808e-04,   7.02025594e-04,   1.76824985e-03,\n",
       "         6.03421170e-04,   1.92928583e-03,   5.00000880e-03,\n",
       "         8.51920918e-03,   1.36811889e-03,   4.12875989e-04,\n",
       "         2.38404227e-03,   2.93415941e-03,   3.39706536e-04,\n",
       "         7.75547388e-04,   1.29875856e-03,   0.00000000e+00,\n",
       "         3.35352161e-03,   8.59185318e-04,   5.08525393e-04,\n",
       "         0.00000000e+00,   0.00000000e+00,   1.59547187e-03,\n",
       "         1.00397814e-03,   1.80902608e-03,   1.56720115e-03,\n",
       "         4.91977077e-04,   4.00632603e-03,   1.28277108e-03,\n",
       "         0.00000000e+00,   0.00000000e+00,   1.19443975e-03,\n",
       "         3.27323315e-03,   0.00000000e+00,   4.29885136e-04,\n",
       "         2.73551167e-03,   0.00000000e+00,   0.00000000e+00,\n",
       "         0.00000000e+00,   1.12388860e-03,   1.04897406e-03,\n",
       "         1.45502603e-03,   0.00000000e+00,   1.53409632e-03,\n",
       "         7.97574387e-04,   0.00000000e+00,   9.30319266e-04,\n",
       "         0.00000000e+00,   1.56290559e-03,   0.00000000e+00,\n",
       "         1.77513836e-03,   6.70812539e-04,   0.00000000e+00,\n",
       "         4.43795893e-04,   1.25621608e-03,   1.98484400e-04,\n",
       "         1.59387147e-03,   7.04869933e-04,   1.08573555e-03,\n",
       "         5.09289343e-04,   0.00000000e+00,   4.24972574e-04,\n",
       "         8.24139301e-04,   1.38009428e-03,   1.08507392e-03,\n",
       "         6.81536191e-04,   6.03701652e-04,   0.00000000e+00,\n",
       "         4.12693372e-05,   0.00000000e+00,   1.78536368e-03,\n",
       "         5.08458241e-04,   0.00000000e+00,   1.13485142e-04,\n",
       "         0.00000000e+00,   2.22043506e-04,   4.99970431e-04,\n",
       "         1.49236684e-03,   7.78542332e-05,   5.86682668e-04,\n",
       "         0.00000000e+00,   5.74030493e-04,   0.00000000e+00,\n",
       "         1.38887892e-03,   1.67472257e-03,   1.58669375e-03,\n",
       "         1.61454230e-03,   4.15316590e-03,   0.00000000e+00,\n",
       "         0.00000000e+00,   3.07891215e-03,   1.16153567e-03,\n",
       "         0.00000000e+00,   0.00000000e+00,   9.49828371e-04,\n",
       "         0.00000000e+00,   0.00000000e+00,   3.46364906e-03,\n",
       "         0.00000000e+00,   2.26003472e-03,   1.84448525e-03,\n",
       "         1.15198542e-03,   2.15302747e-04,   1.38716936e-03,\n",
       "         6.27218781e-04,   1.13183783e-03,   0.00000000e+00,\n",
       "         1.18401144e-03,   1.44394769e-04,   0.00000000e+00,\n",
       "         6.72718772e-04,   6.71399516e-05,   1.64722480e-03,\n",
       "         0.00000000e+00,   3.21733699e-04,   2.30678680e-04,\n",
       "         2.36679709e-03,   1.37087716e-03,   2.40901634e-03,\n",
       "         2.02981468e-03,   1.65620468e-03,   3.59747366e-04,\n",
       "         6.08441721e-04,   3.54454635e-04,   1.04330838e-02,\n",
       "         1.49163485e-03,   4.87281122e-04,   8.34833572e-04,\n",
       "         1.76344106e-03,   2.05741055e-03,   5.78918086e-04,\n",
       "         1.36998141e-03,   2.75355935e-03,   3.04557839e-03,\n",
       "         1.08480411e-03,   0.00000000e+00,   6.05818543e-04,\n",
       "         1.31782855e-03,   1.52725992e-03,   3.17503117e-03,\n",
       "         0.00000000e+00,   2.14609873e-03,   0.00000000e+00,\n",
       "         1.21733862e-03,   1.69261780e-04,   0.00000000e+00,\n",
       "         8.66228368e-04,   0.00000000e+00,   1.28097437e-03,\n",
       "         2.18970081e-04,   3.54275484e-03,   1.09200108e-04,\n",
       "         1.48499208e-03,   1.84216500e-03,   0.00000000e+00,\n",
       "         3.30198375e-03,   9.79109471e-04,   5.32634236e-04,\n",
       "         1.97597102e-03,   0.00000000e+00,   1.56396349e-03,\n",
       "         1.45475796e-03,   1.04907391e-03,   3.45540657e-04,\n",
       "         1.45590427e-03,   4.64710691e-04,   3.66525835e-04,\n",
       "         7.49731675e-04,   3.80609310e-03,   2.04480616e-03,\n",
       "         1.42169936e-03,   2.40830251e-03,   1.16144835e-03,\n",
       "         0.00000000e+00,   5.96930735e-05,   1.34137058e-03,\n",
       "         2.21852908e-04,   1.98550820e-03,   0.00000000e+00,\n",
       "         0.00000000e+00,   0.00000000e+00,   0.00000000e+00,\n",
       "         1.09375414e-03,   2.13151735e-03,   1.81187994e-03,\n",
       "         1.70169870e-03,   5.34928115e-04,   7.19044376e-04,\n",
       "         7.44776145e-04,   2.79253195e-04,   2.05494400e-03,\n",
       "         2.60268416e-03,   7.54504919e-03,   1.16065348e-02,\n",
       "         6.63427784e-03,   1.45406623e-02,   1.30591020e-02,\n",
       "         1.15037997e-02,   9.09820565e-03,   1.09880600e-02,\n",
       "         1.08855385e-02,   1.66892739e-02,   1.68952618e-02,\n",
       "         1.12375519e-02])"
      ]
     },
     "execution_count": 695,
     "metadata": {},
     "output_type": "execute_result"
    }
   ],
   "source": [
    "gb_model.feature_importances_"
   ]
  },
  {
   "cell_type": "code",
   "execution_count": 696,
   "metadata": {
    "collapsed": true
   },
   "outputs": [],
   "source": [
    "feat_imp = pd.DataFrame({'features':dat.columns.values,'values':gb_model.feature_importances_})"
   ]
  },
  {
   "cell_type": "code",
   "execution_count": 698,
   "metadata": {
    "collapsed": false
   },
   "outputs": [
    {
     "name": "stderr",
     "output_type": "stream",
     "text": [
      "/home/truong/anaconda2/lib/python2.7/site-packages/ipykernel/__main__.py:1: FutureWarning: sort(columns=....) is deprecated, use sort_values(by=.....)\n",
      "  if __name__ == '__main__':\n"
     ]
    },
    {
     "data": {
      "text/html": [
       "<div>\n",
       "<table border=\"1\" class=\"dataframe\">\n",
       "  <thead>\n",
       "    <tr style=\"text-align: right;\">\n",
       "      <th></th>\n",
       "      <th>features</th>\n",
       "      <th>values</th>\n",
       "    </tr>\n",
       "  </thead>\n",
       "  <tbody>\n",
       "    <tr>\n",
       "      <th>551</th>\n",
       "      <td>Pit Bull</td>\n",
       "      <td>0.010433</td>\n",
       "    </tr>\n",
       "    <tr>\n",
       "      <th>627</th>\n",
       "      <td>May</td>\n",
       "      <td>0.010886</td>\n",
       "    </tr>\n",
       "    <tr>\n",
       "      <th>626</th>\n",
       "      <td>March</td>\n",
       "      <td>0.010988</td>\n",
       "    </tr>\n",
       "    <tr>\n",
       "      <th>630</th>\n",
       "      <td>September</td>\n",
       "      <td>0.011238</td>\n",
       "    </tr>\n",
       "    <tr>\n",
       "      <th>624</th>\n",
       "      <td>July</td>\n",
       "      <td>0.011504</td>\n",
       "    </tr>\n",
       "    <tr>\n",
       "      <th>620</th>\n",
       "      <td>August</td>\n",
       "      <td>0.011607</td>\n",
       "    </tr>\n",
       "    <tr>\n",
       "      <th>623</th>\n",
       "      <td>January</td>\n",
       "      <td>0.013059</td>\n",
       "    </tr>\n",
       "    <tr>\n",
       "      <th>1</th>\n",
       "      <td>AnimalType</td>\n",
       "      <td>0.013785</td>\n",
       "    </tr>\n",
       "    <tr>\n",
       "      <th>622</th>\n",
       "      <td>February</td>\n",
       "      <td>0.014541</td>\n",
       "    </tr>\n",
       "    <tr>\n",
       "      <th>628</th>\n",
       "      <td>November</td>\n",
       "      <td>0.016689</td>\n",
       "    </tr>\n",
       "    <tr>\n",
       "      <th>629</th>\n",
       "      <td>October</td>\n",
       "      <td>0.016895</td>\n",
       "    </tr>\n",
       "    <tr>\n",
       "      <th>4</th>\n",
       "      <td>Male</td>\n",
       "      <td>0.019137</td>\n",
       "    </tr>\n",
       "    <tr>\n",
       "      <th>0</th>\n",
       "      <td>NoName</td>\n",
       "      <td>0.027559</td>\n",
       "    </tr>\n",
       "    <tr>\n",
       "      <th>3</th>\n",
       "      <td>Fixed</td>\n",
       "      <td>0.043450</td>\n",
       "    </tr>\n",
       "    <tr>\n",
       "      <th>2</th>\n",
       "      <td>AgeuponOutcome</td>\n",
       "      <td>0.168377</td>\n",
       "    </tr>\n",
       "  </tbody>\n",
       "</table>\n",
       "</div>"
      ],
      "text/plain": [
       "           features    values\n",
       "551        Pit Bull  0.010433\n",
       "627             May  0.010886\n",
       "626           March  0.010988\n",
       "630       September  0.011238\n",
       "624            July  0.011504\n",
       "620          August  0.011607\n",
       "623         January  0.013059\n",
       "1        AnimalType  0.013785\n",
       "622        February  0.014541\n",
       "628        November  0.016689\n",
       "629         October  0.016895\n",
       "4              Male  0.019137\n",
       "0            NoName  0.027559\n",
       "3             Fixed  0.043450\n",
       "2    AgeuponOutcome  0.168377"
      ]
     },
     "execution_count": 698,
     "metadata": {},
     "output_type": "execute_result"
    }
   ],
   "source": [
    "feat_imp.sort('values').iloc[-15:]"
   ]
  },
  {
   "cell_type": "markdown",
   "metadata": {},
   "source": [
    "### Zero Rule Baseline"
   ]
  },
  {
   "cell_type": "code",
   "execution_count": 701,
   "metadata": {
    "collapsed": false
   },
   "outputs": [
    {
     "data": {
      "text/plain": [
       "ModeResult(mode=array([ 0.]), count=array([10769]))"
      ]
     },
     "execution_count": 701,
     "metadata": {},
     "output_type": "execute_result"
    }
   ],
   "source": [
    "from scipy import stats\n",
    "stats.mode(labels)"
   ]
  },
  {
   "cell_type": "code",
   "execution_count": 702,
   "metadata": {
    "collapsed": false
   },
   "outputs": [
    {
     "data": {
      "text/plain": [
       "0.40289573122825395"
      ]
     },
     "execution_count": 702,
     "metadata": {},
     "output_type": "execute_result"
    }
   ],
   "source": [
    "10769./len(labels)"
   ]
  },
  {
   "cell_type": "code",
   "execution_count": null,
   "metadata": {
    "collapsed": true
   },
   "outputs": [],
   "source": []
  }
 ],
 "metadata": {
  "kernelspec": {
   "display_name": "Python 2",
   "language": "python",
   "name": "python2"
  },
  "language_info": {
   "codemirror_mode": {
    "name": "ipython",
    "version": 2
   },
   "file_extension": ".py",
   "mimetype": "text/x-python",
   "name": "python",
   "nbconvert_exporter": "python",
   "pygments_lexer": "ipython2",
   "version": "2.7.12"
  }
 },
 "nbformat": 4,
 "nbformat_minor": 0
}
